{
 "cells": [
  {
   "cell_type": "code",
   "execution_count": 25,
   "metadata": {},
   "outputs": [],
   "source": [
    "from ltlcross_runner import LtlcrossRunner\n",
    "from IPython.display import display\n",
    "import pandas as pd\n",
    "import spot\n",
    "import sys\n",
    "spot.setup(show_default='.a')\n",
    "pd.options.display.float_format = '{: .0f}'.format\n",
    "pd.options.display.latex.multicolumn_format = 'c'"
   ]
  },
  {
   "cell_type": "code",
   "execution_count": 26,
   "metadata": {},
   "outputs": [
    {
     "name": "stdout",
     "output_type": "stream",
     "text": [
      "LTL3BA 1.1.3\n",
      "LTL3TELA 1.2.1 (using Spot 2.7.4)\n",
      "ltl2tgba (spot) 2.7.4\n",
      "\n",
      "Copyright (C) 2019  Laboratoire de Recherche et Développement de l'Epita.\n",
      "License GPLv3+: GNU GPL version 3 or later <http://gnu.org/licenses/gpl.html>.\n",
      "This is free software: you are free to change and redistribute it.\n",
      "There is NO WARRANTY, to the extent permitted by law.\n",
      "Name: owl\n",
      "Version: 18.06\n",
      "Name: owl\n",
      "Version: 18.06\n",
      "ltl2dstar v.0.5.4\n",
      "Copyright (C) 2005-2015 Joachim Klein <j.klein@ltl2dstar.de>\n",
      "\n"
     ]
    }
   ],
   "source": [
    "%%bash\n",
    "# ltl2ba does not support version print; we use 1.2 in experiments\n",
    "ltl3ba -v\n",
    "ltl3tela -v\n",
    "ltl2tgba --version\n",
    "delag --version\n",
    "ltl2dgra --version # Rabinizer 4\n",
    "ltl2dstar --version"
   ]
  },
  {
   "cell_type": "code",
   "execution_count": 27,
   "metadata": {},
   "outputs": [],
   "source": [
    "def generate(n=100,func=(lambda x: True),filename=None,priorities='',ap=['a','b','c','d','e']):\n",
    "    if filename is None:\n",
    "        file_h = sys.stdout\n",
    "    else:\n",
    "        file_h = open(filename,'w')\n",
    "    f = spot.randltl(ap,\n",
    "                     ltl_priorities=priorities,\n",
    "                     simplify=3,tree_size=15).relabel_bse(spot.Abc)\n",
    "    i = 0\n",
    "    printed = set()\n",
    "    while(i < n):\n",
    "        form = next(f)\n",
    "        if form in printed:\n",
    "            continue\n",
    "        if func(form) and not form.is_tt() and not form.is_ff():\n",
    "            print(form,file=file_h)\n",
    "            printed.add(form)\n",
    "            i += 1"
   ]
  },
  {
   "cell_type": "code",
   "execution_count": 221,
   "metadata": {},
   "outputs": [],
   "source": [
    "f_rand = 'formulae/atva19/rand.ltl'\n",
    "f_patterns = 'formulae/atva19/genltl.ltl'\n",
    "# generate(1000, filename = f_rand)"
   ]
  },
  {
   "cell_type": "code",
   "execution_count": 151,
   "metadata": {},
   "outputs": [],
   "source": [
    "rerun = True"
   ]
  },
  {
   "cell_type": "markdown",
   "metadata": {},
   "source": [
    "### Deterministic automata"
   ]
  },
  {
   "cell_type": "code",
   "execution_count": 152,
   "metadata": {},
   "outputs": [],
   "source": [
    "d_tools = {\n",
    "    \"ltl3tela-D1\": \"ltl3tela -D1 -f %f > %O\",\n",
    "    \"ltl2tgba-DG\": \"ltl2tgba -DG %f > %O\",\n",
    "    \"delag\": \"delag %f > %O\",\n",
    "    \"rabinizer4\": \"ltl2dgra %f > %O\",\n",
    "    \"ltl2dstar\": \"ltldo ltl2dstar -f %f > %O\"\n",
    "}\n",
    "d_order = [\"ltl3tela-D1\", \"ltl2tgba-DG\", \"delag\", \"rabinizer4\", \"ltl2dstar\"]\n",
    "d_cols = [\"states\", \"edges\", \"transitions\", \"acc\"]\n",
    "d_csv = 'formulae/atva19/rand.stats.csv'"
   ]
  },
  {
   "cell_type": "code",
   "execution_count": 153,
   "metadata": {},
   "outputs": [],
   "source": [
    "d_data = LtlcrossRunner(d_tools, formula_files = [f_rand], res_filename = d_csv, cols = d_cols)\n",
    "if not rerun:\n",
    "    d_data.run_ltlcross()\n",
    "d_data.parse_results(d_csv)"
   ]
  },
  {
   "cell_type": "code",
   "execution_count": 154,
   "metadata": {},
   "outputs": [
    {
     "data": {
      "text/html": [
       "<div>\n",
       "<style scoped>\n",
       "    .dataframe tbody tr th:only-of-type {\n",
       "        vertical-align: middle;\n",
       "    }\n",
       "\n",
       "    .dataframe tbody tr th {\n",
       "        vertical-align: top;\n",
       "    }\n",
       "\n",
       "    .dataframe thead th {\n",
       "        text-align: right;\n",
       "    }\n",
       "</style>\n",
       "<table border=\"1\" class=\"dataframe\">\n",
       "  <thead>\n",
       "    <tr style=\"text-align: right;\">\n",
       "      <th>column</th>\n",
       "      <th>states</th>\n",
       "      <th>edges</th>\n",
       "      <th>transitions</th>\n",
       "      <th>acc</th>\n",
       "    </tr>\n",
       "    <tr>\n",
       "      <th>tool</th>\n",
       "      <th></th>\n",
       "      <th></th>\n",
       "      <th></th>\n",
       "      <th></th>\n",
       "    </tr>\n",
       "  </thead>\n",
       "  <tbody>\n",
       "    <tr>\n",
       "      <th>ltl3tela-D1</th>\n",
       "      <td>6027</td>\n",
       "      <td>19093</td>\n",
       "      <td>54525</td>\n",
       "      <td>1293</td>\n",
       "    </tr>\n",
       "    <tr>\n",
       "      <th>ltl2tgba-DG</th>\n",
       "      <td>6799</td>\n",
       "      <td>24131</td>\n",
       "      <td>63428</td>\n",
       "      <td>1575</td>\n",
       "    </tr>\n",
       "    <tr>\n",
       "      <th>delag</th>\n",
       "      <td>7193</td>\n",
       "      <td>71954</td>\n",
       "      <td>71965</td>\n",
       "      <td>3090</td>\n",
       "    </tr>\n",
       "    <tr>\n",
       "      <th>rabinizer4</th>\n",
       "      <td>7562</td>\n",
       "      <td>30876</td>\n",
       "      <td>72184</td>\n",
       "      <td>2781</td>\n",
       "    </tr>\n",
       "    <tr>\n",
       "      <th>ltl2dstar</th>\n",
       "      <td>89015</td>\n",
       "      <td>2303530</td>\n",
       "      <td>2303530</td>\n",
       "      <td>4148</td>\n",
       "    </tr>\n",
       "  </tbody>\n",
       "</table>\n",
       "</div>"
      ],
      "text/plain": [
       "column       states    edges  transitions   acc\n",
       "tool                                           \n",
       "ltl3tela-D1    6027    19093        54525  1293\n",
       "ltl2tgba-DG    6799    24131        63428  1575\n",
       "delag          7193    71954        71965  3090\n",
       "rabinizer4     7562    30876        72184  2781\n",
       "ltl2dstar     89015  2303530      2303530  4148"
      ]
     },
     "execution_count": 154,
     "metadata": {},
     "output_type": "execute_result"
    }
   ],
   "source": [
    "d_data.cummulative(col = d_cols).unstack(level = 0).loc[d_order, d_cols]"
   ]
  },
  {
   "cell_type": "code",
   "execution_count": 197,
   "metadata": {},
   "outputs": [
    {
     "data": {
      "text/plain": [
       "1000"
      ]
     },
     "execution_count": 197,
     "metadata": {},
     "output_type": "execute_result"
    }
   ],
   "source": [
    "len(d_data.values.index)"
   ]
  },
  {
   "cell_type": "code",
   "execution_count": 177,
   "metadata": {},
   "outputs": [
    {
     "data": {
      "text/plain": [
       "1000"
      ]
     },
     "execution_count": 177,
     "metadata": {},
     "output_type": "execute_result"
    }
   ],
   "source": [
    "len(d_data.values.index)"
   ]
  },
  {
   "cell_type": "code",
   "execution_count": 185,
   "metadata": {},
   "outputs": [],
   "source": [
    "d_csv_patterns = 'formulae/atva19/patterns.stats.csv'\n",
    "rerun = True"
   ]
  },
  {
   "cell_type": "code",
   "execution_count": 183,
   "metadata": {},
   "outputs": [],
   "source": [
    "d_data_patterns = LtlcrossRunner(d_tools, formula_files = [f_patterns], res_filename = d_csv_patterns, cols = d_cols)\n",
    "if not rerun:\n",
    "    d_data_patterns.run_ltlcross(timeout = '30')\n",
    "d_data_patterns.parse_results(d_csv_patterns)"
   ]
  },
  {
   "cell_type": "code",
   "execution_count": 186,
   "metadata": {},
   "outputs": [
    {
     "data": {
      "text/html": [
       "<div>\n",
       "<style scoped>\n",
       "    .dataframe tbody tr th:only-of-type {\n",
       "        vertical-align: middle;\n",
       "    }\n",
       "\n",
       "    .dataframe tbody tr th {\n",
       "        vertical-align: top;\n",
       "    }\n",
       "\n",
       "    .dataframe thead th {\n",
       "        text-align: right;\n",
       "    }\n",
       "</style>\n",
       "<table border=\"1\" class=\"dataframe\">\n",
       "  <thead>\n",
       "    <tr style=\"text-align: right;\">\n",
       "      <th>column</th>\n",
       "      <th>states</th>\n",
       "      <th>edges</th>\n",
       "      <th>transitions</th>\n",
       "      <th>acc</th>\n",
       "    </tr>\n",
       "    <tr>\n",
       "      <th>tool</th>\n",
       "      <th></th>\n",
       "      <th></th>\n",
       "      <th></th>\n",
       "      <th></th>\n",
       "    </tr>\n",
       "  </thead>\n",
       "  <tbody>\n",
       "    <tr>\n",
       "      <th>ltl3tela-D1</th>\n",
       "      <td>2250</td>\n",
       "      <td>8231</td>\n",
       "      <td>38239</td>\n",
       "      <td>361</td>\n",
       "    </tr>\n",
       "    <tr>\n",
       "      <th>ltl2tgba-DG</th>\n",
       "      <td>2341</td>\n",
       "      <td>9347</td>\n",
       "      <td>39054</td>\n",
       "      <td>512</td>\n",
       "    </tr>\n",
       "    <tr>\n",
       "      <th>delag</th>\n",
       "      <td>5242</td>\n",
       "      <td>256393</td>\n",
       "      <td>256427</td>\n",
       "      <td>1043</td>\n",
       "    </tr>\n",
       "    <tr>\n",
       "      <th>rabinizer4</th>\n",
       "      <td>2654</td>\n",
       "      <td>10169</td>\n",
       "      <td>41912</td>\n",
       "      <td>932</td>\n",
       "    </tr>\n",
       "    <tr>\n",
       "      <th>ltl2dstar</th>\n",
       "      <td>235283</td>\n",
       "      <td>7617064</td>\n",
       "      <td>7617064</td>\n",
       "      <td>1332</td>\n",
       "    </tr>\n",
       "  </tbody>\n",
       "</table>\n",
       "</div>"
      ],
      "text/plain": [
       "column       states    edges  transitions   acc\n",
       "tool                                           \n",
       "ltl3tela-D1    2250     8231        38239   361\n",
       "ltl2tgba-DG    2341     9347        39054   512\n",
       "delag          5242   256393       256427  1043\n",
       "rabinizer4     2654    10169        41912   932\n",
       "ltl2dstar    235283  7617064      7617064  1332"
      ]
     },
     "execution_count": 186,
     "metadata": {},
     "output_type": "execute_result"
    }
   ],
   "source": [
    "d_data_patterns.cummulative(col = d_cols).unstack(level = 0).loc[d_order, d_cols]"
   ]
  },
  {
   "cell_type": "code",
   "execution_count": 200,
   "metadata": {},
   "outputs": [
    {
     "data": {
      "text/plain": [
       "327"
      ]
     },
     "execution_count": 200,
     "metadata": {},
     "output_type": "execute_result"
    }
   ],
   "source": [
    "to = d_data_patterns.exit_status\n",
    "to[to == \"timeout\"].count()\n",
    "len(d_data_patterns.values.dropna().index)"
   ]
  },
  {
   "cell_type": "code",
   "execution_count": 192,
   "metadata": {},
   "outputs": [
    {
     "data": {
      "image/svg+xml": [
       "<?xml version=\"1.0\" encoding=\"UTF-8\" standalone=\"no\"?>\n",
       "<!DOCTYPE svg PUBLIC \"-//W3C//DTD SVG 1.1//EN\"\n",
       " \"http://www.w3.org/Graphics/SVG/1.1/DTD/svg11.dtd\">\n",
       "<!-- Generated by graphviz version 2.38.0 (20140413.2041)\n",
       " -->\n",
       "<!-- Pages: 1 -->\n",
       "<svg width=\"209pt\" height=\"202pt\"\n",
       " viewBox=\"0.00 0.00 209.00 202.00\" xmlns=\"http://www.w3.org/2000/svg\" xmlns:xlink=\"http://www.w3.org/1999/xlink\">\n",
       "<g id=\"graph0\" class=\"graph\" transform=\"scale(1 1) rotate(0) translate(4 198)\">\n",
       "<polygon fill=\"white\" stroke=\"none\" points=\"-4,4 -4,-198 205,-198 205,4 -4,4\"/>\n",
       "<text text-anchor=\"start\" x=\"97.5\" y=\"-178.8\" font-family=\"Lato\" font-size=\"14.00\">t</text>\n",
       "<text text-anchor=\"start\" x=\"89.5\" y=\"-163.8\" font-family=\"Lato\" font-size=\"14.00\">[all]</text>\n",
       "<!-- I -->\n",
       "<!-- 2 -->\n",
       "<g id=\"node2\" class=\"node\"><title>2</title>\n",
       "<ellipse fill=\"#ffffaa\" stroke=\"black\" cx=\"56\" cy=\"-67\" rx=\"18\" ry=\"18\"/>\n",
       "<text text-anchor=\"middle\" x=\"56\" y=\"-63.3\" font-family=\"Lato\" font-size=\"14.00\">2</text>\n",
       "</g>\n",
       "<!-- I&#45;&gt;2 -->\n",
       "<g id=\"edge1\" class=\"edge\"><title>I&#45;&gt;2</title>\n",
       "<path fill=\"none\" stroke=\"black\" d=\"M1.15491,-67C2.79388,-67 17.1543,-67 30.6317,-67\"/>\n",
       "<polygon fill=\"black\" stroke=\"black\" points=\"37.9419,-67 30.9419,-70.1501 34.4419,-67 30.9419,-67.0001 30.9419,-67.0001 30.9419,-67.0001 34.4419,-67 30.9418,-63.8501 37.9419,-67 37.9419,-67\"/>\n",
       "</g>\n",
       "<!-- 2&#45;&gt;2 -->\n",
       "<g id=\"edge6\" class=\"edge\"><title>2&#45;&gt;2</title>\n",
       "<path fill=\"none\" stroke=\"black\" d=\"M49.6208,-84.0373C48.3189,-93.8579 50.4453,-103 56,-103 60.166,-103 62.4036,-97.8576 62.7128,-91.1433\"/>\n",
       "<polygon fill=\"black\" stroke=\"black\" points=\"62.3792,-84.0373 65.8541,-90.8818 62.5434,-87.5335 62.7076,-91.0296 62.7076,-91.0296 62.7076,-91.0296 62.5434,-87.5335 59.561,-91.1774 62.3792,-84.0373 62.3792,-84.0373\"/>\n",
       "<text text-anchor=\"start\" x=\"26.5\" y=\"-106.8\" font-family=\"Lato\" font-size=\"14.00\">!p0 &amp; !p1</text>\n",
       "</g>\n",
       "<!-- 0 -->\n",
       "<g id=\"node3\" class=\"node\"><title>0</title>\n",
       "<ellipse fill=\"#ffffaa\" stroke=\"black\" cx=\"183\" cy=\"-105\" rx=\"18\" ry=\"18\"/>\n",
       "<text text-anchor=\"middle\" x=\"183\" y=\"-101.3\" font-family=\"Lato\" font-size=\"14.00\">0</text>\n",
       "</g>\n",
       "<!-- 2&#45;&gt;0 -->\n",
       "<g id=\"edge4\" class=\"edge\"><title>2&#45;&gt;0</title>\n",
       "<path fill=\"none\" stroke=\"black\" d=\"M73.3416,-71.9678C95.1454,-78.5962 133.883,-90.3725 158.732,-97.9264\"/>\n",
       "<polygon fill=\"black\" stroke=\"black\" points=\"165.654,-100.031 158.041,-101.009 162.306,-99.0129 158.957,-97.9949 158.957,-97.9949 158.957,-97.9949 162.306,-99.0129 159.873,-94.9811 165.654,-100.031 165.654,-100.031\"/>\n",
       "<text text-anchor=\"start\" x=\"92\" y=\"-96.8\" font-family=\"Lato\" font-size=\"14.00\">!p0 &amp; p1</text>\n",
       "</g>\n",
       "<!-- 1 -->\n",
       "<g id=\"node4\" class=\"node\"><title>1</title>\n",
       "<ellipse fill=\"#ffffaa\" stroke=\"black\" cx=\"183\" cy=\"-18\" rx=\"18\" ry=\"18\"/>\n",
       "<text text-anchor=\"middle\" x=\"183\" y=\"-14.3\" font-family=\"Lato\" font-size=\"14.00\">1</text>\n",
       "</g>\n",
       "<!-- 2&#45;&gt;1 -->\n",
       "<g id=\"edge5\" class=\"edge\"><title>2&#45;&gt;1</title>\n",
       "<path fill=\"none\" stroke=\"black\" d=\"M73.0857,-60.6944C95.0246,-52.0943 134.444,-36.6421 159.36,-26.875\"/>\n",
       "<polygon fill=\"black\" stroke=\"black\" points=\"165.976,-24.2814 160.609,-29.7689 162.717,-25.5588 159.459,-26.8362 159.459,-26.8362 159.459,-26.8362 162.717,-25.5588 158.309,-23.9034 165.976,-24.2814 165.976,-24.2814\"/>\n",
       "<text text-anchor=\"start\" x=\"111\" y=\"-55.8\" font-family=\"Lato\" font-size=\"14.00\">p0</text>\n",
       "</g>\n",
       "<!-- 0&#45;&gt;0 -->\n",
       "<g id=\"edge2\" class=\"edge\"><title>0&#45;&gt;0</title>\n",
       "<path fill=\"none\" stroke=\"black\" d=\"M172.627,-119.792C169.249,-130.417 172.707,-141 183,-141 190.881,-141 194.754,-134.796 194.622,-127.12\"/>\n",
       "<polygon fill=\"black\" stroke=\"black\" points=\"193.373,-119.792 197.654,-126.163 193.961,-123.242 194.549,-126.692 194.549,-126.692 194.549,-126.692 193.961,-123.242 191.444,-127.221 193.373,-119.792 193.373,-119.792\"/>\n",
       "<text text-anchor=\"start\" x=\"172.5\" y=\"-144.8\" font-family=\"Lato\" font-size=\"14.00\">!p0</text>\n",
       "</g>\n",
       "<!-- 1&#45;&gt;1 -->\n",
       "<g id=\"edge3\" class=\"edge\"><title>1&#45;&gt;1</title>\n",
       "<path fill=\"none\" stroke=\"black\" d=\"M172.627,-32.7917C169.249,-43.4165 172.707,-54 183,-54 190.881,-54 194.754,-47.7961 194.622,-40.1197\"/>\n",
       "<polygon fill=\"black\" stroke=\"black\" points=\"193.373,-32.7917 197.654,-39.1632 193.961,-36.242 194.549,-39.6923 194.549,-39.6923 194.549,-39.6923 193.961,-36.242 191.444,-40.2213 193.373,-32.7917 193.373,-32.7917\"/>\n",
       "<text text-anchor=\"middle\" x=\"183\" y=\"-57.8\" font-family=\"Lato\" font-size=\"14.00\">1</text>\n",
       "</g>\n",
       "</g>\n",
       "</svg>\n"
      ],
      "text/plain": [
       "<spot.twa_graph; proxy of <Swig Object of type 'std::shared_ptr< spot::twa_graph > *' at 0x7f15e9c23600> >"
      ]
     },
     "execution_count": 192,
     "metadata": {},
     "output_type": "execute_result"
    }
   ],
   "source": [
    "!ltl3tela -f 'Fp0 -> (!p1 U p0)' > /tmp/aut\n",
    "spot.automaton('/tmp/aut')"
   ]
  },
  {
   "cell_type": "code",
   "execution_count": 67,
   "metadata": {},
   "outputs": [
    {
     "data": {
      "text/html": [
       "<div>\n",
       "<style scoped>\n",
       "    .dataframe tbody tr th:only-of-type {\n",
       "        vertical-align: middle;\n",
       "    }\n",
       "\n",
       "    .dataframe tbody tr th {\n",
       "        vertical-align: top;\n",
       "    }\n",
       "\n",
       "    .dataframe thead tr th {\n",
       "        text-align: left;\n",
       "    }\n",
       "\n",
       "    .dataframe thead tr:last-of-type th {\n",
       "        text-align: right;\n",
       "    }\n",
       "</style>\n",
       "<table border=\"1\" class=\"dataframe\">\n",
       "  <thead>\n",
       "    <tr>\n",
       "      <th></th>\n",
       "      <th>column</th>\n",
       "      <th colspan=\"2\" halign=\"left\">states</th>\n",
       "    </tr>\n",
       "    <tr>\n",
       "      <th></th>\n",
       "      <th>tool</th>\n",
       "      <th>ltl2tgba-DG</th>\n",
       "      <th>ltl3tela-D1</th>\n",
       "    </tr>\n",
       "    <tr>\n",
       "      <th>form_id</th>\n",
       "      <th>formula</th>\n",
       "      <th></th>\n",
       "      <th></th>\n",
       "    </tr>\n",
       "  </thead>\n",
       "  <tbody>\n",
       "  </tbody>\n",
       "</table>\n",
       "</div>"
      ],
      "text/plain": [
       "Empty DataFrame\n",
       "Columns: [(states, ltl2tgba-DG), (states, ltl3tela-D1)]\n",
       "Index: []"
      ]
     },
     "execution_count": 67,
     "metadata": {},
     "output_type": "execute_result"
    }
   ],
   "source": [
    "d_data_patterns.smaller_than('ltl2tgba-DG', 'ltl3tela-D1')"
   ]
  },
  {
   "cell_type": "markdown",
   "metadata": {},
   "source": [
    "### Nondeterministic automata"
   ]
  },
  {
   "cell_type": "code",
   "execution_count": 207,
   "metadata": {},
   "outputs": [],
   "source": [
    "rerun = True"
   ]
  },
  {
   "cell_type": "code",
   "execution_count": 202,
   "metadata": {},
   "outputs": [],
   "source": [
    "import os\n",
    "os.environ['SPOT_HOA_TOLERANT']='TRUE'"
   ]
  },
  {
   "cell_type": "code",
   "execution_count": 204,
   "metadata": {},
   "outputs": [],
   "source": [
    "n_tools = {\n",
    "    \"ltl3tela\": \"ltl3tela -f %f > %O\",\n",
    "    \"ltl2tgba\": \"ltl2tgba %f > %O\",\n",
    "    \"ltl2tgba-G\": \"ltl2tgba -G %f > %O\",\n",
    "    \"ltl2ba\": \"ltldo ltl2ba -f %f > %O\",\n",
    "    \"ltl3ba\": \"ltldo ltl3ba -f %f > %O\",\n",
    "}\n",
    "n_order = [\"ltl3tela\", \"ltl2tgba\", \"ltl2tgba-G\", \"ltl2ba\", \"ltl3ba\"]\n",
    "n_cols = [\"states\", \"edges\", \"transitions\", \"acc\"]\n",
    "n_csv = 'formulae/atva19/rand.nondet.stats.csv'"
   ]
  },
  {
   "cell_type": "code",
   "execution_count": 205,
   "metadata": {},
   "outputs": [],
   "source": [
    "n_data = LtlcrossRunner(n_tools, formula_files = [f_rand], res_filename = n_csv, cols = n_cols)\n",
    "if not rerun:\n",
    "    n_data.run_ltlcross()\n",
    "n_data.parse_results()"
   ]
  },
  {
   "cell_type": "code",
   "execution_count": 217,
   "metadata": {},
   "outputs": [
    {
     "data": {
      "text/html": [
       "<div>\n",
       "<style scoped>\n",
       "    .dataframe tbody tr th:only-of-type {\n",
       "        vertical-align: middle;\n",
       "    }\n",
       "\n",
       "    .dataframe tbody tr th {\n",
       "        vertical-align: top;\n",
       "    }\n",
       "\n",
       "    .dataframe thead th {\n",
       "        text-align: right;\n",
       "    }\n",
       "</style>\n",
       "<table border=\"1\" class=\"dataframe\">\n",
       "  <thead>\n",
       "    <tr style=\"text-align: right;\">\n",
       "      <th>column</th>\n",
       "      <th>states</th>\n",
       "      <th>edges</th>\n",
       "      <th>transitions</th>\n",
       "      <th>acc</th>\n",
       "    </tr>\n",
       "    <tr>\n",
       "      <th>tool</th>\n",
       "      <th></th>\n",
       "      <th></th>\n",
       "      <th></th>\n",
       "      <th></th>\n",
       "    </tr>\n",
       "  </thead>\n",
       "  <tbody>\n",
       "    <tr>\n",
       "      <th>ltl3tela</th>\n",
       "      <td>5121</td>\n",
       "      <td>12511</td>\n",
       "      <td>41527</td>\n",
       "      <td>1177</td>\n",
       "    </tr>\n",
       "    <tr>\n",
       "      <th>ltl2tgba</th>\n",
       "      <td>5413</td>\n",
       "      <td>13059</td>\n",
       "      <td>43374</td>\n",
       "      <td>1034</td>\n",
       "    </tr>\n",
       "    <tr>\n",
       "      <th>ltl2tgba-G</th>\n",
       "      <td>5391</td>\n",
       "      <td>13144</td>\n",
       "      <td>43457</td>\n",
       "      <td>1041</td>\n",
       "    </tr>\n",
       "    <tr>\n",
       "      <th>ltl2ba</th>\n",
       "      <td>7817</td>\n",
       "      <td>23839</td>\n",
       "      <td>106336</td>\n",
       "      <td>1000</td>\n",
       "    </tr>\n",
       "    <tr>\n",
       "      <th>ltl3ba</th>\n",
       "      <td>6280</td>\n",
       "      <td>15624</td>\n",
       "      <td>52148</td>\n",
       "      <td>1000</td>\n",
       "    </tr>\n",
       "  </tbody>\n",
       "</table>\n",
       "</div>"
      ],
      "text/plain": [
       "column      states  edges  transitions   acc\n",
       "tool                                        \n",
       "ltl3tela      5121  12511        41527  1177\n",
       "ltl2tgba      5413  13059        43374  1034\n",
       "ltl2tgba-G    5391  13144        43457  1041\n",
       "ltl2ba        7817  23839       106336  1000\n",
       "ltl3ba        6280  15624        52148  1000"
      ]
     },
     "execution_count": 217,
     "metadata": {},
     "output_type": "execute_result"
    }
   ],
   "source": [
    "n_data.cummulative(col = n_cols).unstack(level = 0).loc[n_order, n_cols]"
   ]
  },
  {
   "cell_type": "code",
   "execution_count": 226,
   "metadata": {},
   "outputs": [],
   "source": [
    "rerun = True"
   ]
  },
  {
   "cell_type": "code",
   "execution_count": 227,
   "metadata": {},
   "outputs": [],
   "source": [
    "n_csv_patterns = 'formulae/atva19/patterns.nondet.stats.csv'"
   ]
  },
  {
   "cell_type": "code",
   "execution_count": 228,
   "metadata": {},
   "outputs": [],
   "source": [
    "n_data_patterns = LtlcrossRunner(n_tools, formula_files = [f_patterns], res_filename = n_csv_patterns, cols = n_cols)\n",
    "if not rerun:\n",
    "    n_data_patterns.run_ltlcross(timeout = '30')\n",
    "n_data_patterns.parse_results(n_csv_patterns)"
   ]
  },
  {
   "cell_type": "code",
   "execution_count": 229,
   "metadata": {},
   "outputs": [
    {
     "data": {
      "text/html": [
       "<div>\n",
       "<style scoped>\n",
       "    .dataframe tbody tr th:only-of-type {\n",
       "        vertical-align: middle;\n",
       "    }\n",
       "\n",
       "    .dataframe tbody tr th {\n",
       "        vertical-align: top;\n",
       "    }\n",
       "\n",
       "    .dataframe thead th {\n",
       "        text-align: right;\n",
       "    }\n",
       "</style>\n",
       "<table border=\"1\" class=\"dataframe\">\n",
       "  <thead>\n",
       "    <tr style=\"text-align: right;\">\n",
       "      <th>column</th>\n",
       "      <th>states</th>\n",
       "      <th>edges</th>\n",
       "      <th>transitions</th>\n",
       "      <th>acc</th>\n",
       "    </tr>\n",
       "    <tr>\n",
       "      <th>tool</th>\n",
       "      <th></th>\n",
       "      <th></th>\n",
       "      <th></th>\n",
       "      <th></th>\n",
       "    </tr>\n",
       "  </thead>\n",
       "  <tbody>\n",
       "    <tr>\n",
       "      <th>ltl3tela</th>\n",
       "      <td>2383</td>\n",
       "      <td>10137</td>\n",
       "      <td>115149</td>\n",
       "      <td>568</td>\n",
       "    </tr>\n",
       "    <tr>\n",
       "      <th>ltl2tgba</th>\n",
       "      <td>2655</td>\n",
       "      <td>8589</td>\n",
       "      <td>140104</td>\n",
       "      <td>490</td>\n",
       "    </tr>\n",
       "    <tr>\n",
       "      <th>ltl2tgba-G</th>\n",
       "      <td>2399</td>\n",
       "      <td>12383</td>\n",
       "      <td>109229</td>\n",
       "      <td>618</td>\n",
       "    </tr>\n",
       "    <tr>\n",
       "      <th>ltl2ba</th>\n",
       "      <td>6761</td>\n",
       "      <td>28663</td>\n",
       "      <td>1041846</td>\n",
       "      <td>365</td>\n",
       "    </tr>\n",
       "    <tr>\n",
       "      <th>ltl3ba</th>\n",
       "      <td>5329</td>\n",
       "      <td>16063</td>\n",
       "      <td>318534</td>\n",
       "      <td>365</td>\n",
       "    </tr>\n",
       "  </tbody>\n",
       "</table>\n",
       "</div>"
      ],
      "text/plain": [
       "column      states  edges  transitions  acc\n",
       "tool                                       \n",
       "ltl3tela      2383  10137       115149  568\n",
       "ltl2tgba      2655   8589       140104  490\n",
       "ltl2tgba-G    2399  12383       109229  618\n",
       "ltl2ba        6761  28663      1041846  365\n",
       "ltl3ba        5329  16063       318534  365"
      ]
     },
     "execution_count": 229,
     "metadata": {},
     "output_type": "execute_result"
    }
   ],
   "source": [
    "n_data_patterns.cummulative(col = n_cols).unstack(level = 0).loc[n_order, n_cols]"
   ]
  },
  {
   "cell_type": "code",
   "execution_count": 230,
   "metadata": {},
   "outputs": [
    {
     "data": {
      "text/html": [
       "<div>\n",
       "<style scoped>\n",
       "    .dataframe tbody tr th:only-of-type {\n",
       "        vertical-align: middle;\n",
       "    }\n",
       "\n",
       "    .dataframe tbody tr th {\n",
       "        vertical-align: top;\n",
       "    }\n",
       "\n",
       "    .dataframe thead tr th {\n",
       "        text-align: left;\n",
       "    }\n",
       "\n",
       "    .dataframe thead tr:last-of-type th {\n",
       "        text-align: right;\n",
       "    }\n",
       "</style>\n",
       "<table border=\"1\" class=\"dataframe\">\n",
       "  <thead>\n",
       "    <tr>\n",
       "      <th></th>\n",
       "      <th>column</th>\n",
       "      <th colspan=\"2\" halign=\"left\">states</th>\n",
       "    </tr>\n",
       "    <tr>\n",
       "      <th></th>\n",
       "      <th>tool</th>\n",
       "      <th>ltl2tgba-G</th>\n",
       "      <th>ltl3tela</th>\n",
       "    </tr>\n",
       "    <tr>\n",
       "      <th>form_id</th>\n",
       "      <th>formula</th>\n",
       "      <th></th>\n",
       "      <th></th>\n",
       "    </tr>\n",
       "  </thead>\n",
       "  <tbody>\n",
       "    <tr>\n",
       "      <th>50</th>\n",
       "      <th>G!p0 | F(p0 &amp; (!p1 W p2))</th>\n",
       "      <td>5</td>\n",
       "      <td>4</td>\n",
       "    </tr>\n",
       "    <tr>\n",
       "      <th>72</th>\n",
       "      <th>G(p0 -&gt; (((p1 &amp; X(!p2 U p3)) -&gt; X(!p2 U (p3 &amp; Fp4))) U (p2 | G((p1 &amp; X(!p2 U p3)) -&gt; X(!p2 U (p3 &amp; Fp4))))))</th>\n",
       "      <td>10</td>\n",
       "      <td>8</td>\n",
       "    </tr>\n",
       "    <tr>\n",
       "      <th>327</th>\n",
       "      <th>!(Gp2 | Gp0 | (G(p0 | GFp1) &amp; G(p2 | GF!p1)))</th>\n",
       "      <td>6</td>\n",
       "      <td>4</td>\n",
       "    </tr>\n",
       "    <tr>\n",
       "      <th>337</th>\n",
       "      <th>GFa2 U G(GFa1 U G(GFa0 U Xb))</th>\n",
       "      <td>9</td>\n",
       "      <td>8</td>\n",
       "    </tr>\n",
       "    <tr>\n",
       "      <th>338</th>\n",
       "      <th>GFa2 U G(GFa1 U G(GFa0 U XXb))</th>\n",
       "      <td>10</td>\n",
       "      <td>9</td>\n",
       "    </tr>\n",
       "    <tr>\n",
       "      <th>339</th>\n",
       "      <th>GFa2 U G(GFa1 U G(GFa0 U XXXb))</th>\n",
       "      <td>11</td>\n",
       "      <td>10</td>\n",
       "    </tr>\n",
       "    <tr>\n",
       "      <th>340</th>\n",
       "      <th>GFa2 U G(GFa1 U G(GFa0 U XXXXb))</th>\n",
       "      <td>12</td>\n",
       "      <td>11</td>\n",
       "    </tr>\n",
       "    <tr>\n",
       "      <th>341</th>\n",
       "      <th>GFa2 U G(GFa1 U G(GFa0 U XXXXXb))</th>\n",
       "      <td>13</td>\n",
       "      <td>12</td>\n",
       "    </tr>\n",
       "    <tr>\n",
       "      <th>342</th>\n",
       "      <th>GFa3 U G(GFa2 U G(GFa1 U G(GFa0 U Xb)))</th>\n",
       "      <td>11</td>\n",
       "      <td>9</td>\n",
       "    </tr>\n",
       "    <tr>\n",
       "      <th>343</th>\n",
       "      <th>GFa3 U G(GFa2 U G(GFa1 U G(GFa0 U XXb)))</th>\n",
       "      <td>12</td>\n",
       "      <td>10</td>\n",
       "    </tr>\n",
       "    <tr>\n",
       "      <th>344</th>\n",
       "      <th>GFa3 U G(GFa2 U G(GFa1 U G(GFa0 U XXXb)))</th>\n",
       "      <td>13</td>\n",
       "      <td>11</td>\n",
       "    </tr>\n",
       "    <tr>\n",
       "      <th>345</th>\n",
       "      <th>GFa3 U G(GFa2 U G(GFa1 U G(GFa0 U XXXXb)))</th>\n",
       "      <td>14</td>\n",
       "      <td>12</td>\n",
       "    </tr>\n",
       "    <tr>\n",
       "      <th>346</th>\n",
       "      <th>GFa3 U G(GFa2 U G(GFa1 U G(GFa0 U XXXXXb)))</th>\n",
       "      <td>15</td>\n",
       "      <td>13</td>\n",
       "    </tr>\n",
       "  </tbody>\n",
       "</table>\n",
       "</div>"
      ],
      "text/plain": [
       "column                                                         states         \n",
       "tool                                                       ltl2tgba-G ltl3tela\n",
       "form_id formula                                                               \n",
       "50      G!p0 | F(p0 & (!p1 W p2))                                   5        4\n",
       "72      G(p0 -> (((p1 & X(!p2 U p3)) -> X(!p2 U (p3 & F...         10        8\n",
       "327     !(Gp2 | Gp0 | (G(p0 | GFp1) & G(p2 | GF!p1)))               6        4\n",
       "337     GFa2 U G(GFa1 U G(GFa0 U Xb))                               9        8\n",
       "338     GFa2 U G(GFa1 U G(GFa0 U XXb))                             10        9\n",
       "339     GFa2 U G(GFa1 U G(GFa0 U XXXb))                            11       10\n",
       "340     GFa2 U G(GFa1 U G(GFa0 U XXXXb))                           12       11\n",
       "341     GFa2 U G(GFa1 U G(GFa0 U XXXXXb))                          13       12\n",
       "342     GFa3 U G(GFa2 U G(GFa1 U G(GFa0 U Xb)))                    11        9\n",
       "343     GFa3 U G(GFa2 U G(GFa1 U G(GFa0 U XXb)))                   12       10\n",
       "344     GFa3 U G(GFa2 U G(GFa1 U G(GFa0 U XXXb)))                  13       11\n",
       "345     GFa3 U G(GFa2 U G(GFa1 U G(GFa0 U XXXXb)))                 14       12\n",
       "346     GFa3 U G(GFa2 U G(GFa1 U G(GFa0 U XXXXXb)))                15       13"
      ]
     },
     "execution_count": 230,
     "metadata": {},
     "output_type": "execute_result"
    }
   ],
   "source": [
    "n_data_patterns.smaller_than('ltl3tela', 'ltl2tgba-G')"
   ]
  },
  {
   "cell_type": "code",
   "execution_count": 231,
   "metadata": {},
   "outputs": [
    {
     "data": {
      "text/html": [
       "<div>\n",
       "<style scoped>\n",
       "    .dataframe tbody tr th:only-of-type {\n",
       "        vertical-align: middle;\n",
       "    }\n",
       "\n",
       "    .dataframe tbody tr th {\n",
       "        vertical-align: top;\n",
       "    }\n",
       "\n",
       "    .dataframe thead tr th {\n",
       "        text-align: left;\n",
       "    }\n",
       "\n",
       "    .dataframe thead tr:last-of-type th {\n",
       "        text-align: right;\n",
       "    }\n",
       "</style>\n",
       "<table border=\"1\" class=\"dataframe\">\n",
       "  <thead>\n",
       "    <tr>\n",
       "      <th></th>\n",
       "      <th>column</th>\n",
       "      <th colspan=\"2\" halign=\"left\">states</th>\n",
       "    </tr>\n",
       "    <tr>\n",
       "      <th></th>\n",
       "      <th>tool</th>\n",
       "      <th>ltl2tgba-G</th>\n",
       "      <th>ltl3tela</th>\n",
       "    </tr>\n",
       "    <tr>\n",
       "      <th>form_id</th>\n",
       "      <th>formula</th>\n",
       "      <th></th>\n",
       "      <th></th>\n",
       "    </tr>\n",
       "  </thead>\n",
       "  <tbody>\n",
       "  </tbody>\n",
       "</table>\n",
       "</div>"
      ],
      "text/plain": [
       "Empty DataFrame\n",
       "Columns: [(states, ltl2tgba-G), (states, ltl3tela)]\n",
       "Index: []"
      ]
     },
     "execution_count": 231,
     "metadata": {},
     "output_type": "execute_result"
    }
   ],
   "source": [
    "n_data_patterns.smaller_than('ltl2tgba-G', 'ltl3tela')"
   ]
  },
  {
   "cell_type": "code",
   "execution_count": null,
   "metadata": {},
   "outputs": [],
   "source": []
  }
 ],
 "metadata": {
  "kernelspec": {
   "display_name": "Python 3",
   "language": "python",
   "name": "python3"
  },
  "language_info": {
   "codemirror_mode": {
    "name": "ipython",
    "version": 3
   },
   "file_extension": ".py",
   "mimetype": "text/x-python",
   "name": "python",
   "nbconvert_exporter": "python",
   "pygments_lexer": "ipython3",
   "version": "3.5.3"
  }
 },
 "nbformat": 4,
 "nbformat_minor": 2
}

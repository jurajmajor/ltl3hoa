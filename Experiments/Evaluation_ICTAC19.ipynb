{
 "cells": [
  {
   "cell_type": "code",
   "execution_count": 159,
   "metadata": {},
   "outputs": [],
   "source": [
    "from ltlcross_runner import LtlcrossRunner\n",
    "from IPython.display import display\n",
    "import pandas as pd\n",
    "import spot\n",
    "import sys\n",
    "import re\n",
    "spot.setup(show_default='.a')\n",
    "pd.options.display.float_format = '{: .0f}'.format\n",
    "pd.options.display.latex.multicolumn_format = 'c'\n",
    "from tables_utils import split_cols, high_min, high_max, highlight_by_level\n",
    "from tables_utils import fix_latex, fix_type, fix_tool\n",
    "from tables_utils import cummulative_to_latex"
   ]
  },
  {
   "cell_type": "markdown",
   "metadata": {},
   "source": [
    "With `rerun = True`, all experiments are executed again (takes several hours). With `False`, the data are taken from the *.csv files:"
   ]
  },
  {
   "cell_type": "code",
   "execution_count": 177,
   "metadata": {},
   "outputs": [],
   "source": [
    "rerun = False"
   ]
  },
  {
   "cell_type": "code",
   "execution_count": 161,
   "metadata": {},
   "outputs": [],
   "source": [
    "import os\n",
    "os.environ['SPOT_HOA_TOLERANT']='TRUE'"
   ]
  },
  {
   "cell_type": "code",
   "execution_count": 192,
   "metadata": {},
   "outputs": [
    {
     "name": "stdout",
     "output_type": "stream",
     "text": [
      "LTL3BA 1.1.3\n",
      "LTL3TELA 2.1.0 (using Spot 2.7.4)\n",
      "ltlcross (spot) 2.7.4\n",
      "\n",
      "Copyright (C) 2019  Laboratoire de Recherche et Développement de l'Epita.\n",
      "License GPLv3+: GNU GPL version 3 or later <http://gnu.org/licenses/gpl.html>.\n",
      "This is free software: you are free to change and redistribute it.\n",
      "There is NO WARRANTY, to the extent permitted by law.\n"
     ]
    }
   ],
   "source": [
    "%%bash\n",
    "ltl3ba -v\n",
    "ltl3tela -v\n",
    "ltlcross --version"
   ]
  },
  {
   "cell_type": "markdown",
   "metadata": {},
   "source": [
    "The `generate` function may be used to generate random formulae. Uncomment the function call below to generate different set of formulae."
   ]
  },
  {
   "cell_type": "code",
   "execution_count": 193,
   "metadata": {},
   "outputs": [],
   "source": [
    "def generate(n=1000,func=(lambda x: True),filename=None,priorities='',ap=['a','b','c','d','e']):\n",
    "    if filename is None:\n",
    "        file_h = sys.stdout\n",
    "    else:\n",
    "        file_h = open(filename,'w')\n",
    "    f = spot.randltl(ap,\n",
    "                     ltl_priorities=priorities,\n",
    "                     simplify=3,tree_size=15).relabel_bse(spot.Abc)\n",
    "    i = 0\n",
    "    printed = set()\n",
    "    while(i < n):\n",
    "        form = next(f)\n",
    "        if form in printed:\n",
    "            continue\n",
    "        if func(form) and not form.is_tt() and not form.is_ff():\n",
    "            print(form,file=file_h)\n",
    "            printed.add(form)\n",
    "            i += 1"
   ]
  },
  {
   "cell_type": "code",
   "execution_count": 194,
   "metadata": {},
   "outputs": [],
   "source": [
    "datasets = [ {\n",
    "    'name': 'rand1',\n",
    "    'form': 'formulae/ictac19/rand1.ltl',\n",
    "    'csv' : 'formulae/ictac19/rand1.csv',\n",
    "    'dcsv': 'formulae/ictac19/rand1.d.csv',\n",
    "    'ncsv': 'formulae/ictac19/rand1.n.csv',\n",
    "}, {\n",
    "    'name': 'rand2',\n",
    "    'form': 'formulae/ictac19/rand2.ltl',\n",
    "    'csv' : 'formulae/ictac19/rand2.csv',\n",
    "    'dcsv': 'formulae/ictac19/rand2.d.csv',\n",
    "    'ncsv': 'formulae/ictac19/rand2.n.csv',\n",
    "}, {\n",
    "    'name': 'rand4',\n",
    "    'form': 'formulae/ictac19/rand4.ltl',\n",
    "    'csv' : 'formulae/ictac19/rand4.csv',\n",
    "    'dcsv': 'formulae/ictac19/rand4.d.csv',\n",
    "    'ncsv': 'formulae/ictac19/rand4.n.csv',\n",
    "}, {\n",
    "    'name': 'randfg',\n",
    "    'form': 'formulae/ictac19/randfg.ltl',\n",
    "    'csv' : 'formulae/ictac19/randfg.csv',\n",
    "    'dcsv': 'formulae/ictac19/randfg.d.csv',\n",
    "    'ncsv': 'formulae/ictac19/randfg.n.csv',\n",
    "}, {\n",
    "    'name': 'literature',\n",
    "    'form': 'formulae/ictac19/literature.ltl',\n",
    "    'csv' : 'formulae/ictac19/literature.csv',\n",
    "    'dcsv': 'formulae/ictac19/literature.d.csv',\n",
    "    'ncsv': 'formulae/ictac19/literature.n.csv',\n",
    "} ]"
   ]
  },
  {
   "cell_type": "code",
   "execution_count": 195,
   "metadata": {},
   "outputs": [],
   "source": [
    "tools = {\n",
    "    \"ltl3ba\": \"ltldo 'ltl3ba -H1' -f %f > %O\",\n",
    "    \"basic\": \"ltl3tela -p1 -F0 -G0 -i1 -X1 -f %f > %O\",\n",
    "    \"fmerg\": \"ltl3tela -p1 -G0 -i1 -X1 -f %f > %O\",\n",
    "    \"fgmerg\": \"ltl3tela -p1 -i1 -X1 -f %f > %O\",\n",
    "}\n",
    "order = [\"ltl3ba\", \"basic\", \"fmerg\", \"fgmerg\"]\n",
    "cols = [\"states\", \"edges\", \"acc\"]\n",
    "cols_ = cols + [\"nonalt\", \"det\"] # we will count these fields later"
   ]
  },
  {
   "cell_type": "code",
   "execution_count": 196,
   "metadata": {},
   "outputs": [],
   "source": [
    "for d in datasets:\n",
    "    d['data'] = LtlcrossRunner(tools, formula_files = [d['form']], res_filename = d['csv'], cols = cols)\n",
    "    if rerun:\n",
    "        d['data'].run_ltlcross(automata = True, timeout = '60')\n",
    "    d['data'].parse_results()"
   ]
  },
  {
   "cell_type": "markdown",
   "metadata": {},
   "source": [
    "For all datasets, let us count the number of existential (i.e. automata without universal branching) and deterministic automata produced by the translation to alternating automaton. "
   ]
  },
  {
   "cell_type": "code",
   "execution_count": 197,
   "metadata": {},
   "outputs": [],
   "source": [
    "for d in datasets:\n",
    "    for tool in tools:\n",
    "        d['data'].values[('nonalt', tool)] = list(map(lambda aut : \\\n",
    "            1 if type(aut) == str and spot.automaton(aut + '\\n').is_existential() else 0, d['data'].automata[tool]))\n",
    "    for tool in tools:\n",
    "        d['data'].values[('det', tool)] = list(map(lambda aut: \\\n",
    "            1 if type(aut) == str and spot.automaton(aut + '\\n').is_deterministic() else 0, d['data'].automata[tool]))"
   ]
  },
  {
   "cell_type": "code",
   "execution_count": 198,
   "metadata": {},
   "outputs": [
    {
     "name": "stdout",
     "output_type": "stream",
     "text": [
      "Number of mergeable formulae from literature: 24\n"
     ]
    }
   ],
   "source": [
    "for d in datasets:\n",
    "    if d['name'] == 'literature':\n",
    "        # we filter formulae to those where FG-merging helped compared to LTL3BA\n",
    "        litdf = d['data'].values\n",
    "        d['data'].values = litdf[litdf[('states', 'fgmerg')] < litdf[('states', 'basic')]]\n",
    "        print(\"Number of mergeable formulae from literature: {}\".format(len(d['data'].values)))\n",
    "    d['dc'] = d['data'].cummulative(col = cols_).unstack(level = 0).loc[order, cols_]"
   ]
  },
  {
   "cell_type": "code",
   "execution_count": 199,
   "metadata": {},
   "outputs": [],
   "source": [
    "m = datasets[0]['dc'].copy()\n",
    "m.columns = m.columns.map(lambda c : c + '.' + datasets[0]['name'])\n",
    "for i in range(1, len(datasets)):\n",
    "    ds = datasets[i]['dc'].copy()\n",
    "    ds.columns = ds.columns.map(lambda c : c + '.' + datasets[i]['name'])\n",
    "    m = pd.merge(m, ds, on = 'tool')"
   ]
  },
  {
   "cell_type": "code",
   "execution_count": 200,
   "metadata": {},
   "outputs": [],
   "source": [
    "t1 = split_cols(m, '.').loc[order, ['states', 'acc']].sort_index(1, ascending = [False, True])"
   ]
  },
  {
   "cell_type": "code",
   "execution_count": 201,
   "metadata": {},
   "outputs": [],
   "source": [
    "t2 = split_cols(m, '.').loc[order, ['det', 'nonalt']].sort_index(1)"
   ]
  },
  {
   "cell_type": "code",
   "execution_count": 202,
   "metadata": {},
   "outputs": [
    {
     "data": {
      "text/html": [
       "<div>\n",
       "<style scoped>\n",
       "    .dataframe tbody tr th:only-of-type {\n",
       "        vertical-align: middle;\n",
       "    }\n",
       "\n",
       "    .dataframe tbody tr th {\n",
       "        vertical-align: top;\n",
       "    }\n",
       "\n",
       "    .dataframe thead tr th {\n",
       "        text-align: left;\n",
       "    }\n",
       "\n",
       "    .dataframe thead tr:last-of-type th {\n",
       "        text-align: right;\n",
       "    }\n",
       "</style>\n",
       "<table border=\"1\" class=\"dataframe\">\n",
       "  <thead>\n",
       "    <tr>\n",
       "      <th></th>\n",
       "      <th colspan=\"5\" halign=\"left\">states</th>\n",
       "      <th colspan=\"5\" halign=\"left\">acc</th>\n",
       "    </tr>\n",
       "    <tr>\n",
       "      <th></th>\n",
       "      <th>literature</th>\n",
       "      <th>rand1</th>\n",
       "      <th>rand2</th>\n",
       "      <th>rand4</th>\n",
       "      <th>randfg</th>\n",
       "      <th>literature</th>\n",
       "      <th>rand1</th>\n",
       "      <th>rand2</th>\n",
       "      <th>rand4</th>\n",
       "      <th>randfg</th>\n",
       "    </tr>\n",
       "    <tr>\n",
       "      <th>tool</th>\n",
       "      <th></th>\n",
       "      <th></th>\n",
       "      <th></th>\n",
       "      <th></th>\n",
       "      <th></th>\n",
       "      <th></th>\n",
       "      <th></th>\n",
       "      <th></th>\n",
       "      <th></th>\n",
       "      <th></th>\n",
       "    </tr>\n",
       "  </thead>\n",
       "  <tbody>\n",
       "    <tr>\n",
       "      <th>ltl3ba</th>\n",
       "      <td>140</td>\n",
       "      <td>6253</td>\n",
       "      <td>6313</td>\n",
       "      <td>6412</td>\n",
       "      <td>5051</td>\n",
       "      <td>24</td>\n",
       "      <td>1000</td>\n",
       "      <td>1000</td>\n",
       "      <td>1000</td>\n",
       "      <td>1000</td>\n",
       "    </tr>\n",
       "    <tr>\n",
       "      <th>basic</th>\n",
       "      <td>140</td>\n",
       "      <td>6234</td>\n",
       "      <td>6287</td>\n",
       "      <td>6393</td>\n",
       "      <td>5051</td>\n",
       "      <td>24</td>\n",
       "      <td>997</td>\n",
       "      <td>1000</td>\n",
       "      <td>1000</td>\n",
       "      <td>1000</td>\n",
       "    </tr>\n",
       "    <tr>\n",
       "      <th>fmerg</th>\n",
       "      <td>110</td>\n",
       "      <td>5418</td>\n",
       "      <td>5296</td>\n",
       "      <td>5231</td>\n",
       "      <td>3926</td>\n",
       "      <td>46</td>\n",
       "      <td>1160</td>\n",
       "      <td>1244</td>\n",
       "      <td>1347</td>\n",
       "      <td>1343</td>\n",
       "    </tr>\n",
       "    <tr>\n",
       "      <th>fgmerg</th>\n",
       "      <td>65</td>\n",
       "      <td>4595</td>\n",
       "      <td>4300</td>\n",
       "      <td>4015</td>\n",
       "      <td>2744</td>\n",
       "      <td>98</td>\n",
       "      <td>2971</td>\n",
       "      <td>3317</td>\n",
       "      <td>3677</td>\n",
       "      <td>2978</td>\n",
       "    </tr>\n",
       "  </tbody>\n",
       "</table>\n",
       "</div>"
      ],
      "text/plain": [
       "           states                                 acc                         \n",
       "       literature rand1 rand2 rand4 randfg literature rand1 rand2 rand4 randfg\n",
       "tool                                                                          \n",
       "ltl3ba        140  6253  6313  6412   5051         24  1000  1000  1000   1000\n",
       "basic         140  6234  6287  6393   5051         24   997  1000  1000   1000\n",
       "fmerg         110  5418  5296  5231   3926         46  1160  1244  1347   1343\n",
       "fgmerg         65  4595  4300  4015   2744         98  2971  3317  3677   2978"
      ]
     },
     "execution_count": 202,
     "metadata": {},
     "output_type": "execute_result"
    }
   ],
   "source": [
    "t1"
   ]
  },
  {
   "cell_type": "code",
   "execution_count": 203,
   "metadata": {},
   "outputs": [
    {
     "data": {
      "text/html": [
       "<div>\n",
       "<style scoped>\n",
       "    .dataframe tbody tr th:only-of-type {\n",
       "        vertical-align: middle;\n",
       "    }\n",
       "\n",
       "    .dataframe tbody tr th {\n",
       "        vertical-align: top;\n",
       "    }\n",
       "\n",
       "    .dataframe thead tr th {\n",
       "        text-align: left;\n",
       "    }\n",
       "\n",
       "    .dataframe thead tr:last-of-type th {\n",
       "        text-align: right;\n",
       "    }\n",
       "</style>\n",
       "<table border=\"1\" class=\"dataframe\">\n",
       "  <thead>\n",
       "    <tr>\n",
       "      <th></th>\n",
       "      <th colspan=\"5\" halign=\"left\">det</th>\n",
       "      <th colspan=\"5\" halign=\"left\">nonalt</th>\n",
       "    </tr>\n",
       "    <tr>\n",
       "      <th></th>\n",
       "      <th>literature</th>\n",
       "      <th>rand1</th>\n",
       "      <th>rand2</th>\n",
       "      <th>rand4</th>\n",
       "      <th>randfg</th>\n",
       "      <th>literature</th>\n",
       "      <th>rand1</th>\n",
       "      <th>rand2</th>\n",
       "      <th>rand4</th>\n",
       "      <th>randfg</th>\n",
       "    </tr>\n",
       "    <tr>\n",
       "      <th>tool</th>\n",
       "      <th></th>\n",
       "      <th></th>\n",
       "      <th></th>\n",
       "      <th></th>\n",
       "      <th></th>\n",
       "      <th></th>\n",
       "      <th></th>\n",
       "      <th></th>\n",
       "      <th></th>\n",
       "      <th></th>\n",
       "    </tr>\n",
       "  </thead>\n",
       "  <tbody>\n",
       "    <tr>\n",
       "      <th>ltl3ba</th>\n",
       "      <td>0</td>\n",
       "      <td>5</td>\n",
       "      <td>2</td>\n",
       "      <td>0</td>\n",
       "      <td>0</td>\n",
       "      <td>6</td>\n",
       "      <td>148</td>\n",
       "      <td>114</td>\n",
       "      <td>89</td>\n",
       "      <td>144</td>\n",
       "    </tr>\n",
       "    <tr>\n",
       "      <th>basic</th>\n",
       "      <td>0</td>\n",
       "      <td>5</td>\n",
       "      <td>2</td>\n",
       "      <td>0</td>\n",
       "      <td>0</td>\n",
       "      <td>6</td>\n",
       "      <td>148</td>\n",
       "      <td>114</td>\n",
       "      <td>89</td>\n",
       "      <td>144</td>\n",
       "    </tr>\n",
       "    <tr>\n",
       "      <th>fmerg</th>\n",
       "      <td>2</td>\n",
       "      <td>64</td>\n",
       "      <td>53</td>\n",
       "      <td>40</td>\n",
       "      <td>73</td>\n",
       "      <td>6</td>\n",
       "      <td>171</td>\n",
       "      <td>146</td>\n",
       "      <td>119</td>\n",
       "      <td>192</td>\n",
       "    </tr>\n",
       "    <tr>\n",
       "      <th>fgmerg</th>\n",
       "      <td>10</td>\n",
       "      <td>133</td>\n",
       "      <td>126</td>\n",
       "      <td>124</td>\n",
       "      <td>217</td>\n",
       "      <td>18</td>\n",
       "      <td>356</td>\n",
       "      <td>367</td>\n",
       "      <td>385</td>\n",
       "      <td>603</td>\n",
       "    </tr>\n",
       "  </tbody>\n",
       "</table>\n",
       "</div>"
      ],
      "text/plain": [
       "              det                              nonalt                         \n",
       "       literature rand1 rand2 rand4 randfg literature rand1 rand2 rand4 randfg\n",
       "tool                                                                          \n",
       "ltl3ba          0     5     2     0      0          6   148   114    89    144\n",
       "basic           0     5     2     0      0          6   148   114    89    144\n",
       "fmerg           2    64    53    40     73          6   171   146   119    192\n",
       "fgmerg         10   133   126   124    217         18   356   367   385    603"
      ]
     },
     "execution_count": 203,
     "metadata": {},
     "output_type": "execute_result"
    }
   ],
   "source": [
    "t2"
   ]
  },
  {
   "cell_type": "code",
   "execution_count": 204,
   "metadata": {},
   "outputs": [
    {
     "name": "stdout",
     "output_type": "stream",
     "text": [
      "\\begin{tabular}{lrrrrrrrrrr}\n",
      "\\toprule\n",
      "{} & \\multicolumn{5}{c}{states} & \\multicolumn{5}{c}{acc} \\\\\n",
      "{} & literature & rand1 & rand2 & rand4 & randfg & literature & rand1 & rand2 & rand4 & randfg \\\\\n",
      "tool   &            &       &       &       &        &            &       &       &       &        \\\\\n",
      "\\midrule\n",
      "ltl3ba &        140 &  6253 &  6313 &  6412 &   5051 &         24 &  1000 &  1000 &  1000 &   1000 \\\\\n",
      "basic  &        140 &  6234 &  6287 &  6393 &   5051 &         24 &   997 &  1000 &  1000 &   1000 \\\\\n",
      "fmerg  &        110 &  5418 &  5296 &  5231 &   3926 &         46 &  1160 &  1244 &  1347 &   1343 \\\\\n",
      "fgmerg &         65 &  4595 &  4300 &  4015 &   2744 &         98 &  2971 &  3317 &  3677 &   2978 \\\\\n",
      "\\bottomrule\n",
      "\\end{tabular}\n",
      "\n"
     ]
    }
   ],
   "source": [
    "print(t1.to_latex())"
   ]
  },
  {
   "cell_type": "code",
   "execution_count": 205,
   "metadata": {},
   "outputs": [
    {
     "name": "stdout",
     "output_type": "stream",
     "text": [
      "\\begin{tabular}{lrrrrrrrrrr}\n",
      "\\toprule\n",
      "{} & \\multicolumn{5}{c}{det} & \\multicolumn{5}{c}{nonalt} \\\\\n",
      "{} & literature & rand1 & rand2 & rand4 & randfg & literature & rand1 & rand2 & rand4 & randfg \\\\\n",
      "tool   &            &       &       &       &        &            &       &       &       &        \\\\\n",
      "\\midrule\n",
      "ltl3ba &          0 &     5 &     2 &     0 &      0 &          6 &   148 &   114 &    89 &    144 \\\\\n",
      "basic  &          0 &     5 &     2 &     0 &      0 &          6 &   148 &   114 &    89 &    144 \\\\\n",
      "fmerg  &          2 &    64 &    53 &    40 &     73 &          6 &   171 &   146 &   119 &    192 \\\\\n",
      "fgmerg &         10 &   133 &   126 &   124 &    217 &         18 &   356 &   367 &   385 &    603 \\\\\n",
      "\\bottomrule\n",
      "\\end{tabular}\n",
      "\n"
     ]
    }
   ],
   "source": [
    "print(t2.to_latex())"
   ]
  },
  {
   "cell_type": "markdown",
   "metadata": {},
   "source": [
    "### Scatter plots"
   ]
  },
  {
   "cell_type": "code",
   "execution_count": 206,
   "metadata": {},
   "outputs": [],
   "source": [
    "def fix_tools(tool):\n",
    "    return tool.replace('FG-','$\\\\FG$-').replace('F-','$\\\\F$-')"
   ]
  },
  {
   "cell_type": "code",
   "execution_count": 207,
   "metadata": {},
   "outputs": [],
   "source": [
    "def sc_plot(r,t1,t2,filename=None,include_equal = True,col='states',log=None,size=(5.5,5),kw=None,clip=None, add_count=True):\n",
    "    merged = isinstance(r,list)\n",
    "    if merged:\n",
    "        vals = pd.concat([run.values[col] for run in r])\n",
    "        vals.index = vals.index.droplevel(0)\n",
    "        vals = vals.groupby(vals.index).first()\n",
    "    else:\n",
    "        vals = r.values[col]\n",
    "    to_plot = vals.loc(axis=1)[[t1,t2]] if include_equal else\\\n",
    "        vals[vals[t1] != vals[t2]].loc(axis=1)[[t1,t2]]\n",
    "    to_plot['count'] = 1\n",
    "    to_plot.dropna(inplace=True)\n",
    "    to_plot = to_plot.groupby([t1,t2]).count().reset_index()\n",
    "    if filename is not None:\n",
    "        print(scatter_plot(to_plot, log=log, size=size,kw=kw,clip=clip, add_count=add_count),file=open(filename,'w'))\n",
    "    else:\n",
    "        return scatter_plot(to_plot, log=log, size=size,kw=kw,clip=clip, add_count=add_count)"
   ]
  },
  {
   "cell_type": "code",
   "execution_count": 208,
   "metadata": {},
   "outputs": [],
   "source": [
    "def scatter_plot(df, short_toolnames=True, log=None, size=(5.5,5),kw=None,clip=None,add_count = True):\n",
    "    t1, t2, _ = df.columns.values\n",
    "    if short_toolnames:\n",
    "        t1 = fix_tools(t1.split('/')[0])\n",
    "        t2 = fix_tools(t2.split('/')[0])\n",
    "    vals = ['({},{}) [{}]\\n'.format(v1,v2,c) for v1,v2,c in df.values]\n",
    "    plots = '''\\\\addplot[\n",
    "    scatter, scatter src=explicit, \n",
    "    only marks, fill opacity=0.5,\n",
    "    draw opacity=0] coordinates\n",
    "    {{{}}};'''.format(' '.join(vals))\n",
    "    start_line = 0 if log is None else 1\n",
    "    line = '\\\\addplot[darkgreen,domain={}:{}]{{x}};'.format(start_line, min(df.max(axis=0)[:2])+1)\n",
    "    axis = 'axis'\n",
    "    mins = 'xmin=0,ymin=0,'\n",
    "    clip_str = ''\n",
    "    if clip is not None:\n",
    "        clip_str = '\\\\draw[red,thick] ({},{}) rectangle ({},{});'.format(*clip)\n",
    "    if log:\n",
    "        if log == 'both':\n",
    "            axis = 'loglogaxis'\n",
    "            mins = 'xmin=1,ymin=1,'\n",
    "        else:\n",
    "            axis = 'semilog{}axis'.format(log)\n",
    "            mins = mins + '{}min=1,'.format(log)\n",
    "    args = ''\n",
    "    if kw is not None:\n",
    "        if 'title' in kw and add_count:\n",
    "            kw['title'] = '{{{} ({})}}'.format(kw['title'],df['count'].sum())\n",
    "        args = ['{}={},\\n'.format(k,v) for k,v in kw.items()]\n",
    "        args = ''.join(args)\n",
    "    res = '''%\\\\begin{{tikzpicture}}\n",
    "\\\\pgfplotsset{{every axis legend/.append style={{\n",
    "cells={{anchor=west}},\n",
    "draw=none,\n",
    "}}}}\n",
    "\\\\pgfplotsset{{colorbar/width=.3cm}}\n",
    "\\\\pgfplotsset{{title style={{align=center,\n",
    "                        font=\\\\small}}}}\n",
    "\\\\pgfplotsset{{compat=1.14}}\n",
    "\\\\begin{{{0}}}[\n",
    "{1}\n",
    "colorbar,\n",
    "colormap={{example}}{{\n",
    "  color(0)=(blue)\n",
    "  color(500)=(green)\n",
    "  color(1000)=(red)\n",
    "}},\n",
    "%thick,\n",
    "axis x line* = bottom,\n",
    "axis y line* = left,\n",
    "width={2}cm, height={3}cm, \n",
    "xlabel={{{4}}},\n",
    "ylabel={{{5}}},\n",
    "cycle list={{%\n",
    "{{darkgreen, solid}},\n",
    "{{blue, densely dashed}},\n",
    "{{red, dashdotdotted}},\n",
    "{{brown, densely dotted}},\n",
    "{{black, loosely dashdotted}}\n",
    "}},\n",
    "{6}%\n",
    "]\n",
    "{7}%\n",
    "{8}%\n",
    "{9}%\n",
    "\\\\end{{{0}}}\n",
    "%\\\\end{{tikzpicture}}\n",
    "'''.format(axis,mins,\n",
    "                    size[0],size[1],t1,t2,\n",
    "                    args,plots,line,\n",
    "                    clip_str)\n",
    "    return res"
   ]
  },
  {
   "cell_type": "code",
   "execution_count": 214,
   "metadata": {},
   "outputs": [],
   "source": [
    "fgm = 'fgmerg'\n",
    "basic = 'basic'\n",
    "\n",
    "size = (4,4)\n",
    "clip_names = ('xmin','ymin','xmax','ymax')\n",
    "kw = {}\n",
    "sc_plot(datasets[4]['data'],basic,fgm,'sc_lit.tex',size=size,kw=kw.copy())\n",
    "\n",
    "size = (4.3,4.5)\n",
    "kw['title'] = 'literature'\n",
    "sc_plot(datasets[4]['data'],basic,fgm,'sc_lit.tex',size=size,kw=kw.copy())\n",
    "i = 0\n",
    "for suff in ['1','2','4','fg']:\n",
    "    kw['title'] = 'rand'+suff\n",
    "    sc_plot(datasets[i]['data'],basic,fgm,'sc_rand{}.tex'.format(suff),size=size,kw=kw.copy())\n",
    "    i += 1"
   ]
  }
 ],
 "metadata": {
  "kernelspec": {
   "display_name": "Python 3",
   "language": "python",
   "name": "python3"
  },
  "language_info": {
   "codemirror_mode": {
    "name": "ipython",
    "version": 3
   },
   "file_extension": ".py",
   "mimetype": "text/x-python",
   "name": "python",
   "nbconvert_exporter": "python",
   "pygments_lexer": "ipython3",
   "version": "3.5.3"
  }
 },
 "nbformat": 4,
 "nbformat_minor": 2
}

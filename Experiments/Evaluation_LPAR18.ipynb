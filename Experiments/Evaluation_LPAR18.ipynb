{
 "cells": [
  {
   "cell_type": "markdown",
   "metadata": {},
   "source": [
    "# Experiments for LPAR'18\n",
    "- Paper: *TBA*\n",
    "- Authors: *František Blahoudek, Juraj Major, Jan Strejček*"
   ]
  },
  {
   "cell_type": "code",
   "execution_count": 2,
   "metadata": {
    "collapsed": true
   },
   "outputs": [],
   "source": [
    "from ltlcross_runner import LtlcrossRunner\n",
    "from IPython.display import display\n",
    "import pandas as pd\n",
    "import spot\n",
    "import sys\n",
    "spot.setup(show_default='.a')\n",
    "pd.options.display.float_format = '{: .0f}'.format\n",
    "pd.options.display.latex.multicolumn_format = 'c'"
   ]
  },
  {
   "cell_type": "markdown",
   "metadata": {},
   "source": [
    "Hack that alows to parse ltl3ba automata without universal branching."
   ]
  },
  {
   "cell_type": "code",
   "execution_count": 3,
   "metadata": {},
   "outputs": [],
   "source": [
    "import os\n",
    "os.environ['SPOT_HOA_TOLERANT']='TRUE'"
   ]
  },
  {
   "cell_type": "code",
   "execution_count": 4,
   "metadata": {},
   "outputs": [
    {
     "name": "stdout",
     "output_type": "stream",
     "text": [
      "LTL3BA 1.1.3\n",
      "LTL3TELA 1.2.0 (using Spot 2.6.1)\n",
      "ltl2tgba (spot) 2.6.1\n",
      "\n",
      "Copyright (C) 2018  Laboratoire de Recherche et Développement de l'Epita.\n",
      "License GPLv3+: GNU GPL version 3 or later <http://gnu.org/licenses/gpl.html>.\n",
      "This is free software: you are free to change and redistribute it.\n",
      "There is NO WARRANTY, to the extent permitted by law.\n",
      "ltlcross (spot) 2.6.1\n",
      "\n",
      "Copyright (C) 2018  Laboratoire de Recherche et Développement de l'Epita.\n",
      "License GPLv3+: GNU GPL version 3 or later <http://gnu.org/licenses/gpl.html>.\n",
      "This is free software: you are free to change and redistribute it.\n",
      "There is NO WARRANTY, to the extent permitted by law.\n"
     ]
    }
   ],
   "source": [
    "%%bash\n",
    "ltl3ba -v\n",
    "ltl3tela -v\n",
    "ltl2tgba --version\n",
    "ltlcross --version"
   ]
  },
  {
   "cell_type": "code",
   "execution_count": 5,
   "metadata": {
    "collapsed": true
   },
   "outputs": [],
   "source": [
    "# If there are already files with results, and rerun is False, ltlcross is not run again.\n",
    "rerun = True"
   ]
  },
  {
   "cell_type": "markdown",
   "metadata": {},
   "source": [
    "$\\newcommand{\\F}{\\mathsf{F}}$\n",
    "$\\newcommand{\\G}{\\mathsf{G}}$\n",
    "$\\newcommand{\\FG}{\\mathsf{F,G}}$\n",
    "## Formulae\n",
    "We evaluate our translation on randomly generated formulae. We use Spot to generate them. The following function uses spot's randltl to generate and process formulae. It allows to filter the formulae using the function `func` (this feature is not used here) and also removes formulae $\\top$ and $\\bot$. Further, we remove all $\\mathsf{M}$ and $\\mathsf{W}$ operators as LTL3BA does not understand them. The `relabel_bse` function renames $\\G(a \\lor b)$ into $\\G a$ and thus it keeps only on formula of such type."
   ]
  },
  {
   "cell_type": "code",
   "execution_count": 6,
   "metadata": {
    "collapsed": true
   },
   "outputs": [],
   "source": [
    "def generate(n=100,func=(lambda x: True),filename=None,priorities='M=0,W=0,xor=0',ap=['a','b','c','d','e']):\n",
    "    if filename is None:\n",
    "        file_h = sys.stdout\n",
    "    else:\n",
    "        file_h = open(filename,'w')\n",
    "    f = spot.randltl(ap,\n",
    "                     ltl_priorities=priorities,\n",
    "                     simplify=3,tree_size=15).relabel_bse(spot.Abc)\\\n",
    "                     .unabbreviate('WM')\n",
    "    i = 0\n",
    "    printed = set()\n",
    "    while(i < n):\n",
    "        form = next(f)\n",
    "        if form in printed:\n",
    "            continue\n",
    "        if func(form) and not form.is_tt() and not form.is_ff():\n",
    "            print(form,file=file_h)\n",
    "            printed.add(form)\n",
    "            i += 1"
   ]
  },
  {
   "cell_type": "markdown",
   "metadata": {},
   "source": [
    "### Generate Formulae\n",
    "We generate 1000 random formulae from the $LTL(\\F,\\G)$ fragment and save them to the file `formulae/fg.ltl`."
   ]
  },
  {
   "cell_type": "code",
   "execution_count": 7,
   "metadata": {
    "collapsed": true
   },
   "outputs": [],
   "source": [
    "fg_f = 'formulae/fg.ltl'\n",
    "!mkdir -p formulae\n",
    "total_r = 1000\n",
    "generate(total_r,filename=fg_f,priorities='xor=0,implies=0,equiv=0,X=0,W=0,M=0,R=0,U=0,F=3,G=3')"
   ]
  },
  {
   "cell_type": "code",
   "execution_count": 8,
   "metadata": {},
   "outputs": [],
   "source": [
    "tmp_file      = 'formulae/tmp.ltl'\n",
    "lit_pref      = 'formulae/literature'\n",
    "lit_file      = lit_pref + '.ltl'"
   ]
  },
  {
   "cell_type": "code",
   "execution_count": 9,
   "metadata": {},
   "outputs": [],
   "source": [
    "!genltl --dac-patterns --eh-patterns --sb-patterns --beem-patterns --hkrss-patterns > $tmp_file"
   ]
  },
  {
   "cell_type": "code",
   "execution_count": 10,
   "metadata": {},
   "outputs": [],
   "source": [
    "!ltlfilt --negate $tmp_file | \\\n",
    "ltlfilt $tmp_file -F - --unique -r3 --remove-wm --relabel-bool=abc | \\\n",
    "     ltlfilt -v --equivalent-to=0 | ltlfilt -v --equivalent-to=1> $lit_file"
   ]
  },
  {
   "cell_type": "code",
   "execution_count": 11,
   "metadata": {},
   "outputs": [
    {
     "name": "stdout",
     "output_type": "stream",
     "text": [
      "Number of formulae from literature:\t221\n"
     ]
    }
   ],
   "source": [
    "count = sum(1 for line in open(lit_file))\n",
    "print('Number of formulae from literature:\\t{}'.format(count))\n",
    "total_l = count"
   ]
  },
  {
   "cell_type": "markdown",
   "metadata": {},
   "source": [
    "## Impact of $\\F$- and $\\FG$-merging"
   ]
  },
  {
   "cell_type": "markdown",
   "metadata": {},
   "source": [
    "We compare the $\\F$- and $\\FG$-merging translation to the basic one. We compare the sizes of SLAA (alternating) and TELA (nondeterministic). To really measure the impact of merging, the SPOT's reductions techniques are disabled here (`-u0 -z0`)."
   ]
  },
  {
   "cell_type": "markdown",
   "metadata": {},
   "source": [
    "### Alternating automata"
   ]
  },
  {
   "cell_type": "markdown",
   "metadata": {},
   "source": [
    "Here we use a wrapper script [ltlcross_runner](ltlcross_runner.py) for ltlcross that uses the pandas library to manipulate data. It requires some settings."
   ]
  },
  {
   "cell_type": "code",
   "execution_count": 12,
   "metadata": {
    "collapsed": true
   },
   "outputs": [],
   "source": [
    "### Tools' setting ###\n",
    "ltl3tela_shared = \"ltl3tela -p1 -t0 -u0 -z0 -f %f -a3 -n0 \"\n",
    "#end = \" | awk '!p;/^--END--/{p=1}' > %O\"\n",
    "end = \" > %O\"\n",
    "tools = {\"FG-merging\"       : ltl3tela_shared + end,\n",
    "         \"FG-merging+compl\" : ltl3tela_shared + \"-n1\" + end,\n",
    "         \"F-merging\"        : ltl3tela_shared + \"-G0\" + end,\n",
    "         \"G-merging\"        : ltl3tela_shared + \"-F0\" + end,\n",
    "         \"basic\"            : ltl3tela_shared + \"-F0 -G0\" + end,\n",
    "         \"LTL3BA\"           : \"ltl3ba -H1 -f %s\" + end,\n",
    "        }\n",
    "### Order in which we want to sort the translations\n",
    "MI_order = [\"LTL3BA\", \n",
    "            \"basic\",\"F-merging\",\"FG-merging\"]\n",
    "### File with measured statistics ###\n",
    "merging_imp_alt_r = 'MI_alt-rand.csv'\n",
    "merging_imp_alt_l = 'MI_alt-lit.csv'\n",
    "### Measures to be measured\n",
    "cols = [\"states\",\"transitions\",\"nondet_states\",\"nondet_aut\"]"
   ]
  },
  {
   "cell_type": "markdown",
   "metadata": {},
   "source": [
    "Here we use the `LtlcrossRunner` object to run ltlcross, or parse already computed data."
   ]
  },
  {
   "cell_type": "code",
   "execution_count": 13,
   "metadata": {
    "collapsed": true
   },
   "outputs": [],
   "source": [
    "MI_alt_r = LtlcrossRunner(tools,res_filename=merging_imp_alt_r,\n",
    "                        formula_files=[fg_f],\n",
    "                        cols=cols)\n",
    "if rerun:\n",
    "    MI_alt_r.run_ltlcross()\n",
    "MI_alt_r.parse_results()"
   ]
  },
  {
   "cell_type": "markdown",
   "metadata": {},
   "source": [
    "The cumulative number of states and transitions of all SLAA for each tool. "
   ]
  },
  {
   "cell_type": "code",
   "execution_count": 14,
   "metadata": {},
   "outputs": [
    {
     "data": {
      "text/html": [
       "<div>\n",
       "<style scoped>\n",
       "    .dataframe tbody tr th:only-of-type {\n",
       "        vertical-align: middle;\n",
       "    }\n",
       "\n",
       "    .dataframe tbody tr th {\n",
       "        vertical-align: top;\n",
       "    }\n",
       "\n",
       "    .dataframe thead th {\n",
       "        text-align: right;\n",
       "    }\n",
       "</style>\n",
       "<table border=\"1\" class=\"dataframe\">\n",
       "  <thead>\n",
       "    <tr style=\"text-align: right;\">\n",
       "      <th>column</th>\n",
       "      <th>states</th>\n",
       "      <th>transitions</th>\n",
       "      <th>det. aut.</th>\n",
       "    </tr>\n",
       "    <tr>\n",
       "      <th>tool</th>\n",
       "      <th></th>\n",
       "      <th></th>\n",
       "      <th></th>\n",
       "    </tr>\n",
       "  </thead>\n",
       "  <tbody>\n",
       "    <tr>\n",
       "      <th>LTL3BA</th>\n",
       "      <td>4948</td>\n",
       "      <td>35587</td>\n",
       "      <td>130</td>\n",
       "    </tr>\n",
       "    <tr>\n",
       "      <th>basic</th>\n",
       "      <td>4948</td>\n",
       "      <td>37054</td>\n",
       "      <td>129</td>\n",
       "    </tr>\n",
       "    <tr>\n",
       "      <th>F-merging</th>\n",
       "      <td>3935</td>\n",
       "      <td>29461</td>\n",
       "      <td>283</td>\n",
       "    </tr>\n",
       "    <tr>\n",
       "      <th>FG-merging</th>\n",
       "      <td>2851</td>\n",
       "      <td>22109</td>\n",
       "      <td>265</td>\n",
       "    </tr>\n",
       "  </tbody>\n",
       "</table>\n",
       "</div>"
      ],
      "text/plain": [
       "column      states  transitions  det. aut.\n",
       "tool                                      \n",
       "LTL3BA        4948        35587        130\n",
       "basic         4948        37054        129\n",
       "F-merging     3935        29461        283\n",
       "FG-merging    2851        22109        265"
      ]
     },
     "execution_count": 14,
     "metadata": {},
     "output_type": "execute_result"
    }
   ],
   "source": [
    "tmp = MI_alt_r.cummulative(col=cols).unstack(level=0).loc[MI_order,cols]\n",
    "t1_alt_r = tmp.loc[:,['states','transitions']]\n",
    "t1_alt_r[\"det. aut.\"] = total_r-tmp.nondet_aut\n",
    "t1_alt_r"
   ]
  },
  {
   "cell_type": "markdown",
   "metadata": {},
   "source": [
    "### Literature"
   ]
  },
  {
   "cell_type": "code",
   "execution_count": 15,
   "metadata": {
    "collapsed": true
   },
   "outputs": [],
   "source": [
    "MI_alt_l = LtlcrossRunner(tools,res_filename=merging_imp_alt_l,\n",
    "                        formula_files=[lit_file],\n",
    "                        cols=cols)\n",
    "if rerun:\n",
    "    MI_alt_l.run_ltlcross()\n",
    "MI_alt_l.parse_results()"
   ]
  },
  {
   "cell_type": "raw",
   "metadata": {},
   "source": [
    "t1_alt_l = MI_alt_l.cummulative(col=[\"states\",\"transitions\"]).unstack(level=0).loc[MI_order,:]\n",
    "t1_alt_l[\"det. aut.\"] = \n",
    "t1_alt_l"
   ]
  },
  {
   "cell_type": "code",
   "execution_count": 16,
   "metadata": {},
   "outputs": [
    {
     "data": {
      "text/html": [
       "<div>\n",
       "<style scoped>\n",
       "    .dataframe tbody tr th:only-of-type {\n",
       "        vertical-align: middle;\n",
       "    }\n",
       "\n",
       "    .dataframe tbody tr th {\n",
       "        vertical-align: top;\n",
       "    }\n",
       "\n",
       "    .dataframe thead th {\n",
       "        text-align: right;\n",
       "    }\n",
       "</style>\n",
       "<table border=\"1\" class=\"dataframe\">\n",
       "  <thead>\n",
       "    <tr style=\"text-align: right;\">\n",
       "      <th>column</th>\n",
       "      <th>states</th>\n",
       "      <th>transitions</th>\n",
       "      <th>det. aut.</th>\n",
       "    </tr>\n",
       "    <tr>\n",
       "      <th>tool</th>\n",
       "      <th></th>\n",
       "      <th></th>\n",
       "      <th></th>\n",
       "    </tr>\n",
       "  </thead>\n",
       "  <tbody>\n",
       "    <tr>\n",
       "      <th>LTL3BA</th>\n",
       "      <td>1059</td>\n",
       "      <td>16811</td>\n",
       "      <td>70</td>\n",
       "    </tr>\n",
       "    <tr>\n",
       "      <th>basic</th>\n",
       "      <td>1059</td>\n",
       "      <td>16832</td>\n",
       "      <td>69</td>\n",
       "    </tr>\n",
       "    <tr>\n",
       "      <th>F-merging</th>\n",
       "      <td>1029</td>\n",
       "      <td>16610</td>\n",
       "      <td>72</td>\n",
       "    </tr>\n",
       "    <tr>\n",
       "      <th>FG-merging</th>\n",
       "      <td>984</td>\n",
       "      <td>16096</td>\n",
       "      <td>72</td>\n",
       "    </tr>\n",
       "  </tbody>\n",
       "</table>\n",
       "</div>"
      ],
      "text/plain": [
       "column      states  transitions  det. aut.\n",
       "tool                                      \n",
       "LTL3BA        1059        16811         70\n",
       "basic         1059        16832         69\n",
       "F-merging     1029        16610         72\n",
       "FG-merging     984        16096         72"
      ]
     },
     "execution_count": 16,
     "metadata": {},
     "output_type": "execute_result"
    }
   ],
   "source": [
    "tmp = MI_alt_l.cummulative(col=cols).unstack(level=0).loc[MI_order,cols]\n",
    "t1_alt_l = tmp.loc[:,['states','transitions']]\n",
    "t1_alt_l[\"det. aut.\"] = total_l-tmp.nondet_aut\n",
    "t1_alt_l"
   ]
  },
  {
   "cell_type": "code",
   "execution_count": 17,
   "metadata": {},
   "outputs": [
    {
     "data": {
      "text/html": [
       "<div>\n",
       "<style scoped>\n",
       "    .dataframe tbody tr th:only-of-type {\n",
       "        vertical-align: middle;\n",
       "    }\n",
       "\n",
       "    .dataframe tbody tr th {\n",
       "        vertical-align: top;\n",
       "    }\n",
       "\n",
       "    .dataframe thead tr th {\n",
       "        text-align: left;\n",
       "    }\n",
       "\n",
       "    .dataframe thead tr:last-of-type th {\n",
       "        text-align: right;\n",
       "    }\n",
       "</style>\n",
       "<table border=\"1\" class=\"dataframe\">\n",
       "  <thead>\n",
       "    <tr>\n",
       "      <th></th>\n",
       "      <th colspan=\"3\" halign=\"left\">random (1000)</th>\n",
       "      <th colspan=\"3\" halign=\"left\">literature (221)</th>\n",
       "    </tr>\n",
       "    <tr>\n",
       "      <th>column</th>\n",
       "      <th>states</th>\n",
       "      <th>transitions</th>\n",
       "      <th>det. aut.</th>\n",
       "      <th>states</th>\n",
       "      <th>transitions</th>\n",
       "      <th>det. aut.</th>\n",
       "    </tr>\n",
       "    <tr>\n",
       "      <th>tool</th>\n",
       "      <th></th>\n",
       "      <th></th>\n",
       "      <th></th>\n",
       "      <th></th>\n",
       "      <th></th>\n",
       "      <th></th>\n",
       "    </tr>\n",
       "  </thead>\n",
       "  <tbody>\n",
       "    <tr>\n",
       "      <th>LTL3BA</th>\n",
       "      <td>4948</td>\n",
       "      <td>35587</td>\n",
       "      <td>130</td>\n",
       "      <td>1059</td>\n",
       "      <td>16811</td>\n",
       "      <td>70</td>\n",
       "    </tr>\n",
       "    <tr>\n",
       "      <th>basic</th>\n",
       "      <td>4948</td>\n",
       "      <td>37054</td>\n",
       "      <td>129</td>\n",
       "      <td>1059</td>\n",
       "      <td>16832</td>\n",
       "      <td>69</td>\n",
       "    </tr>\n",
       "    <tr>\n",
       "      <th>F-merging</th>\n",
       "      <td>3935</td>\n",
       "      <td>29461</td>\n",
       "      <td>283</td>\n",
       "      <td>1029</td>\n",
       "      <td>16610</td>\n",
       "      <td>72</td>\n",
       "    </tr>\n",
       "    <tr>\n",
       "      <th>FG-merging</th>\n",
       "      <td>2851</td>\n",
       "      <td>22109</td>\n",
       "      <td>265</td>\n",
       "      <td>984</td>\n",
       "      <td>16096</td>\n",
       "      <td>72</td>\n",
       "    </tr>\n",
       "  </tbody>\n",
       "</table>\n",
       "</div>"
      ],
      "text/plain": [
       "           random (1000)                       literature (221)              \\\n",
       "column            states transitions det. aut.           states transitions   \n",
       "tool                                                                          \n",
       "LTL3BA              4948       35587       130             1059       16811   \n",
       "basic               4948       37054       129             1059       16832   \n",
       "F-merging           3935       29461       283             1029       16610   \n",
       "FG-merging          2851       22109       265              984       16096   \n",
       "\n",
       "                      \n",
       "column     det. aut.  \n",
       "tool                  \n",
       "LTL3BA            70  \n",
       "basic             69  \n",
       "F-merging         72  \n",
       "FG-merging        72  "
      ]
     },
     "execution_count": 17,
     "metadata": {},
     "output_type": "execute_result"
    }
   ],
   "source": [
    "t1 = pd.concat([t1_alt_r,t1_alt_l],axis=1,keys=['random (1000)','literature (221)']).loc[MI_order,:]\n",
    "t1"
   ]
  },
  {
   "cell_type": "code",
   "execution_count": 18,
   "metadata": {},
   "outputs": [
    {
     "data": {
      "text/html": [
       "<div>\n",
       "<style scoped>\n",
       "    .dataframe tbody tr th:only-of-type {\n",
       "        vertical-align: middle;\n",
       "    }\n",
       "\n",
       "    .dataframe tbody tr th {\n",
       "        vertical-align: top;\n",
       "    }\n",
       "\n",
       "    .dataframe thead tr th {\n",
       "        text-align: left;\n",
       "    }\n",
       "</style>\n",
       "<table border=\"1\" class=\"dataframe\">\n",
       "  <thead>\n",
       "    <tr>\n",
       "      <th></th>\n",
       "      <th colspan=\"3\" halign=\"left\">random (1000)</th>\n",
       "      <th colspan=\"3\" halign=\"left\">literature (221)</th>\n",
       "    </tr>\n",
       "    <tr>\n",
       "      <th>translation</th>\n",
       "      <th>states</th>\n",
       "      <th>transitions</th>\n",
       "      <th>det. aut.</th>\n",
       "      <th>states</th>\n",
       "      <th>transitions</th>\n",
       "      <th>det. aut.</th>\n",
       "    </tr>\n",
       "  </thead>\n",
       "  <tbody>\n",
       "    <tr>\n",
       "      <th>LTL3BA</th>\n",
       "      <td>4948</td>\n",
       "      <td>35587</td>\n",
       "      <td>130</td>\n",
       "      <td>1059</td>\n",
       "      <td>16811</td>\n",
       "      <td>70</td>\n",
       "    </tr>\n",
       "    <tr>\n",
       "      <th>basic translation</th>\n",
       "      <td>4948</td>\n",
       "      <td>37054</td>\n",
       "      <td>129</td>\n",
       "      <td>1059</td>\n",
       "      <td>16832</td>\n",
       "      <td>69</td>\n",
       "    </tr>\n",
       "    <tr>\n",
       "      <th>$\\F$-merging</th>\n",
       "      <td>3935</td>\n",
       "      <td>29461</td>\n",
       "      <td>283</td>\n",
       "      <td>1029</td>\n",
       "      <td>16610</td>\n",
       "      <td>72</td>\n",
       "    </tr>\n",
       "    <tr>\n",
       "      <th>$\\FG$-merging</th>\n",
       "      <td>2851</td>\n",
       "      <td>22109</td>\n",
       "      <td>265</td>\n",
       "      <td>984</td>\n",
       "      <td>16096</td>\n",
       "      <td>72</td>\n",
       "    </tr>\n",
       "  </tbody>\n",
       "</table>\n",
       "</div>"
      ],
      "text/plain": [
       "                  random (1000)                       literature (221)  \\\n",
       "translation              states transitions det. aut.           states   \n",
       "LTL3BA                     4948       35587       130             1059   \n",
       "basic translation          4948       37054       129             1059   \n",
       "$\\F$-merging               3935       29461       283             1029   \n",
       "$\\FG$-merging              2851       22109       265              984   \n",
       "\n",
       "                                         \n",
       "translation       transitions det. aut.  \n",
       "LTL3BA                  16811        70  \n",
       "basic translation       16832        69  \n",
       "$\\F$-merging            16610        72  \n",
       "$\\FG$-merging           16096        72  "
      ]
     },
     "execution_count": 18,
     "metadata": {},
     "output_type": "execute_result"
    }
   ],
   "source": [
    "row_map={\"basic\"            : 'basic translation',\n",
    "         \"F-merging\"        : '$\\F$-merging',\n",
    "         \"G-merging\"        : '$\\G$-merging',\n",
    "         \"FG-merging\"       : '$\\FG$-merging',\n",
    "         \"FG-merging+compl\" : \"$\\FG$-merging + complement\"}\n",
    "t1.rename(row_map,inplace=True);\n",
    "t1 = t1.rename_axis(['',\"translation\"],axis=1)\n",
    "t1.index.name = None\n",
    "t1"
   ]
  },
  {
   "cell_type": "code",
   "execution_count": 19,
   "metadata": {},
   "outputs": [],
   "source": [
    "print(t1.to_latex(escape=False,bold_rows=False),file=open('lpar_t1.tex','w'))"
   ]
  },
  {
   "cell_type": "markdown",
   "metadata": {},
   "source": [
    "## Scatter plots"
   ]
  },
  {
   "cell_type": "code",
   "execution_count": 20,
   "metadata": {},
   "outputs": [],
   "source": [
    "def fix_tools(tool):\n",
    "    return tool.replace('FG-','$\\\\FG$-').replace('F-','$\\\\F$-')"
   ]
  },
  {
   "cell_type": "code",
   "execution_count": 33,
   "metadata": {},
   "outputs": [],
   "source": [
    "def sc_plot(r,t1,t2,filename=None,include_equal = True,col='states',log=None,size=(5.5,5),kw=None,clip=None, add_count=True):\n",
    "    merged = isinstance(r,list)\n",
    "    if merged:\n",
    "        vals = pd.concat([run.values[col] for run in r])\n",
    "        vals.index = vals.index.droplevel(0)\n",
    "        vals = vals.groupby(vals.index).first()\n",
    "    else:\n",
    "        vals = r.values[col]\n",
    "    to_plot = vals.loc(axis=1)[[t1,t2]] if include_equal else\\\n",
    "        vals[vals[t1] != vals[t2]].loc(axis=1)[[t1,t2]]\n",
    "    to_plot['count'] = 1\n",
    "    to_plot.dropna(inplace=True)\n",
    "    to_plot = to_plot.groupby([t1,t2]).count().reset_index()\n",
    "    if filename is not None:\n",
    "        print(scatter_plot(to_plot, log=log, size=size,kw=kw,clip=clip, add_count=add_count),file=open(filename,'w'))\n",
    "    else:\n",
    "        return scatter_plot(to_plot, log=log, size=size,kw=kw,clip=clip, add_count=add_count)"
   ]
  },
  {
   "cell_type": "code",
   "execution_count": 34,
   "metadata": {},
   "outputs": [],
   "source": [
    "def scatter_plot(df, short_toolnames=True, log=None, size=(5.5,5),kw=None,clip=None,add_count = True):\n",
    "    t1, t2, _ = df.columns.values\n",
    "    if short_toolnames:\n",
    "        t1 = fix_tools(t1.split('/')[0])\n",
    "        t2 = fix_tools(t2.split('/')[0])\n",
    "    vals = ['({},{}) [{}]\\n'.format(v1,v2,c) for v1,v2,c in df.values]\n",
    "    plots = '''\\\\addplot[\n",
    "    scatter, scatter src=explicit, \n",
    "    only marks, fill opacity=0.5,\n",
    "    draw opacity=0] coordinates\n",
    "    {{{}}};'''.format(' '.join(vals))\n",
    "    start_line = 0 if log is None else 1\n",
    "    line = '\\\\addplot[darkgreen,domain={}:{}]{{x}};'.format(start_line, min(df.max(axis=0)[:2])+1)\n",
    "    axis = 'axis'\n",
    "    mins = 'xmin=0,ymin=0,'\n",
    "    clip_str = ''\n",
    "    if clip is not None:\n",
    "        clip_str = '\\\\draw[red,thick] ({},{}) rectangle ({},{});'.format(*clip)\n",
    "    if log:\n",
    "        if log == 'both':\n",
    "            axis = 'loglogaxis'\n",
    "            mins = 'xmin=1,ymin=1,'\n",
    "        else:\n",
    "            axis = 'semilog{}axis'.format(log)\n",
    "            mins = mins + '{}min=1,'.format(log)\n",
    "    args = ''\n",
    "    if kw is not None:\n",
    "        if 'title' in kw and add_count:\n",
    "            kw['title'] = '{{{} ({})}}'.format(kw['title'],df['count'].sum())\n",
    "        args = ['{}={},\\n'.format(k,v) for k,v in kw.items()]\n",
    "        args = ''.join(args)\n",
    "    res = '''%\\\\begin{{tikzpicture}}\n",
    "\\\\pgfplotsset{{every axis legend/.append style={{\n",
    "cells={{anchor=west}},\n",
    "draw=none,\n",
    "}}}}\n",
    "\\\\pgfplotsset{{colorbar/width=.3cm}}\n",
    "\\\\pgfplotsset{{title style={{align=center,\n",
    "                        font=\\\\small}}}}\n",
    "\\\\pgfplotsset{{compat=1.14}}\n",
    "\\\\begin{{{0}}}[\n",
    "{1}\n",
    "colorbar,\n",
    "%thick,\n",
    "axis x line* = bottom,\n",
    "axis y line* = left,\n",
    "width={2}cm, height={3}cm, \n",
    "xlabel={{{4}}},\n",
    "ylabel={{{5}}},\n",
    "cycle list={{%\n",
    "{{darkgreen, solid}},\n",
    "{{blue, densely dashed}},\n",
    "{{red, dashdotdotted}},\n",
    "{{brown, densely dotted}},\n",
    "{{black, loosely dashdotted}}\n",
    "}},\n",
    "{6}%\n",
    "]\n",
    "{7}%\n",
    "{8}%\n",
    "{9}%\n",
    "\\\\end{{{0}}}\n",
    "%\\\\end{{tikzpicture}}\n",
    "'''.format(axis,mins,\n",
    "                    size[0],size[1],t1,t2,\n",
    "                    args,plots,line,\n",
    "                    clip_str)\n",
    "    return res"
   ]
  },
  {
   "cell_type": "code",
   "execution_count": 35,
   "metadata": {},
   "outputs": [],
   "source": [
    "ltl3ba = 'LTL3BA'\n",
    "fgm = 'FG-merging'\n",
    "fm = 'F-merging'\n",
    "margin_size = (4.3,6)\n",
    "clip_names = ('xmin','ymin','xmax','ymax')\n",
    "kw = {}\n",
    "kw['title'] = 'random'"
   ]
  },
  {
   "cell_type": "code",
   "execution_count": 36,
   "metadata": {},
   "outputs": [],
   "source": [
    "sc_plot(MI_alt_r,ltl3ba,fgm,'sc_fgm_3ba.tex',kw=kw.copy())\n",
    "sc_plot(MI_alt_r,fm,fgm,'sc_fgm_fm.tex',kw=kw.copy())"
   ]
  },
  {
   "cell_type": "code",
   "execution_count": null,
   "metadata": {},
   "outputs": [],
   "source": []
  }
 ],
 "metadata": {
  "kernelspec": {
   "display_name": "Python 3",
   "language": "python",
   "name": "python3"
  },
  "language_info": {
   "codemirror_mode": {
    "name": "ipython",
    "version": 3
   },
   "file_extension": ".py",
   "mimetype": "text/x-python",
   "name": "python",
   "nbconvert_exporter": "python",
   "pygments_lexer": "ipython3",
   "version": "3.5.2"
  }
 },
 "nbformat": 4,
 "nbformat_minor": 2
}

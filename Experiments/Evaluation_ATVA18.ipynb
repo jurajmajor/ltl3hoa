{
 "cells": [
  {
   "cell_type": "markdown",
   "metadata": {},
   "source": [
    "# Experiments for ATVA'18\n",
    "- Paper: *LTL to nondeterministic Emerson-Lei Automata*\n",
    "- Authors: *František Blahoudek, Juraj Major, Jan Strejček*"
   ]
  },
  {
   "cell_type": "code",
   "execution_count": 1,
   "metadata": {
    "collapsed": true
   },
   "outputs": [],
   "source": [
    "from ltlcross_runner import LtlcrossRunner\n",
    "from IPython.display import display\n",
    "import pandas as pd\n",
    "import spot\n",
    "import sys\n",
    "spot.setup(show_default='.a')\n",
    "pd.options.display.float_format = '{: .0f}'.format\n",
    "pd.options.display.latex.multicolumn_format = 'c'"
   ]
  },
  {
   "cell_type": "code",
   "execution_count": 2,
   "metadata": {},
   "outputs": [
    {
     "name": "stdout",
     "output_type": "stream",
     "text": [
      "LTL3BA 1.1.3\n",
      "LTL3TELA 1.1.1\n",
      "ltl2tgba (spot 2.5.3.dev)\n",
      "\n",
      "Copyright (C) 2018  Laboratoire de Recherche et Développement de l'Epita.\n",
      "License GPLv3+: GNU GPL version 3 or later <http://gnu.org/licenses/gpl.html>.\n",
      "This is free software: you are free to change and redistribute it.\n",
      "There is NO WARRANTY, to the extent permitted by law.\n",
      "ltlcross (spot 2.5.3.dev)\n",
      "\n",
      "Copyright (C) 2018  Laboratoire de Recherche et Développement de l'Epita.\n",
      "License GPLv3+: GNU GPL version 3 or later <http://gnu.org/licenses/gpl.html>.\n",
      "This is free software: you are free to change and redistribute it.\n",
      "There is NO WARRANTY, to the extent permitted by law.\n"
     ]
    }
   ],
   "source": [
    "%%bash\n",
    "ltl3ba -v\n",
    "ltl3tela -v\n",
    "ltl2tgba --version\n",
    "ltlcross --version"
   ]
  },
  {
   "cell_type": "code",
   "execution_count": 3,
   "metadata": {
    "collapsed": true
   },
   "outputs": [],
   "source": [
    "# If there are already files with results, and rerun is False, ltlcross is not run again.\n",
    "rerun = True"
   ]
  },
  {
   "cell_type": "markdown",
   "metadata": {},
   "source": [
    "$\\newcommand{\\F}{\\mathsf{F}}$\n",
    "$\\newcommand{\\G}{\\mathsf{G}}$\n",
    "$\\newcommand{\\FG}{\\mathsf{F,G}}$\n",
    "## Formulae\n",
    "We evaluate our translation on randomly generated formulae. We use Spot to generate them. The following function uses spot's randltl to generate and process formulae. It allows to filter the formulae using the function `func` (this feature is not used here) and also removes formulae $\\top$ and $\\bot$. Further, we remove all $\\mathsf{M}$ and $\\mathsf{W}$ operators as LTL3BA does not understand them. The `relabel_bse` function renames $\\G(a \\lor b)$ into $\\G a$ and thus it keeps only on formula of such type."
   ]
  },
  {
   "cell_type": "code",
   "execution_count": 4,
   "metadata": {
    "collapsed": true
   },
   "outputs": [],
   "source": [
    "def generate(n=100,func=(lambda x: True),filename=None,priorities='M=0,W=0,xor=0',ap=['a','b','c','d','e']):\n",
    "    if filename is None:\n",
    "        file_h = sys.stdout\n",
    "    else:\n",
    "        file_h = open(filename,'w')\n",
    "    f = spot.randltl(ap,\n",
    "                     ltl_priorities=priorities,\n",
    "                     simplify=3,tree_size=15).relabel_bse(spot.Abc)\\\n",
    "                     .unabbreviate('WM')\n",
    "    i = 0\n",
    "    printed = set()\n",
    "    while(i < n):\n",
    "        form = next(f)\n",
    "        if form in printed:\n",
    "            continue\n",
    "        if func(form) and not form.is_tt() and not form.is_ff():\n",
    "            print(form,file=file_h)\n",
    "            printed.add(form)\n",
    "            i += 1"
   ]
  },
  {
   "cell_type": "markdown",
   "metadata": {},
   "source": [
    "### Generate Formulae\n",
    "We generate 1000 random formulae from the $LTL(\\F,\\G)$ fragment and save them to the file `formulae/fg.ltl`."
   ]
  },
  {
   "cell_type": "code",
   "execution_count": 5,
   "metadata": {
    "collapsed": true
   },
   "outputs": [],
   "source": [
    "fg_f = 'formulae/fg.ltl'\n",
    "!mkdir -p formulae\n",
    "total = 1000\n",
    "generate(total,filename=fg_f,priorities='xor=0,implies=0,equiv=0,X=0,W=0,M=0,R=0,U=0,F=3,G=3')"
   ]
  },
  {
   "cell_type": "markdown",
   "metadata": {},
   "source": [
    "## Impact of $\\F$- and $\\FG$-merging"
   ]
  },
  {
   "cell_type": "markdown",
   "metadata": {},
   "source": [
    "We compare the $\\F$- and $\\FG$-merging translation to the basic one. We compare the sizes of SLAA (alternating) and TELA (nondeterministic). To really measure the impact of merging, the SPOT's reductions techniques are disabled here (`-u0 -z0`)."
   ]
  },
  {
   "cell_type": "markdown",
   "metadata": {},
   "source": [
    "### Alternating automata"
   ]
  },
  {
   "cell_type": "markdown",
   "metadata": {},
   "source": [
    "Here we use a wrapper script [ltlcross_runner](ltlcross_runner.py) for ltlcross that uses the pandas library to manipulate data. It requires some settings."
   ]
  },
  {
   "cell_type": "code",
   "execution_count": 6,
   "metadata": {
    "collapsed": true
   },
   "outputs": [],
   "source": [
    "### Tools' setting ###\n",
    "ltl3tela_shared = \"ltl3tela -p1 -t0 -u0 -z0 -f %f -a3 -n0 \"\n",
    "end = \" > %O\"\n",
    "tools = {\"FG-merging\"       : ltl3tela_shared + end,\n",
    "         \"FG-merging+compl\" : ltl3tela_shared + \"-n1\" + end,\n",
    "         \"F-merging\"        : ltl3tela_shared + \"-G0\" + end,\n",
    "         \"G-merging\"        : ltl3tela_shared + \"-F0\" + end,\n",
    "         \"basic\"            : ltl3tela_shared + \"-F0 -G0\" + end,\n",
    "        }\n",
    "### Order in which we want to sort the translations\n",
    "MI_order = [\"basic\",\"F-merging\",\n",
    "            \"G-merging\",\"FG-merging\",\n",
    "            \"FG-merging+compl\"]\n",
    "### File with measured statistics ###\n",
    "merging_imp_alt = 'MI_alt-corr.csv'"
   ]
  },
  {
   "cell_type": "markdown",
   "metadata": {},
   "source": [
    "Here we use the `LtlcrossRunner` object to run ltlcross, or parse already computed data."
   ]
  },
  {
   "cell_type": "code",
   "execution_count": 7,
   "metadata": {
    "collapsed": true
   },
   "outputs": [],
   "source": [
    "MI_alt = LtlcrossRunner(tools,res_filename=merging_imp_alt,\n",
    "                        formula_files=[fg_f],\n",
    "                        cols=[\"states\",\"transitions\"])\n",
    "if rerun:\n",
    "    MI_alt.run_ltlcross()\n",
    "MI_alt.parse_results()"
   ]
  },
  {
   "cell_type": "markdown",
   "metadata": {},
   "source": [
    "The cumulative number of states and transitions of all SLAA for each tool. "
   ]
  },
  {
   "cell_type": "code",
   "execution_count": 8,
   "metadata": {},
   "outputs": [
    {
     "data": {
      "text/html": [
       "<div>\n",
       "<style scoped>\n",
       "    .dataframe tbody tr th:only-of-type {\n",
       "        vertical-align: middle;\n",
       "    }\n",
       "\n",
       "    .dataframe tbody tr th {\n",
       "        vertical-align: top;\n",
       "    }\n",
       "\n",
       "    .dataframe thead th {\n",
       "        text-align: right;\n",
       "    }\n",
       "</style>\n",
       "<table border=\"1\" class=\"dataframe\">\n",
       "  <thead>\n",
       "    <tr style=\"text-align: right;\">\n",
       "      <th>column</th>\n",
       "      <th>states</th>\n",
       "      <th>transitions</th>\n",
       "    </tr>\n",
       "    <tr>\n",
       "      <th>tool</th>\n",
       "      <th></th>\n",
       "      <th></th>\n",
       "    </tr>\n",
       "  </thead>\n",
       "  <tbody>\n",
       "    <tr>\n",
       "      <th>basic</th>\n",
       "      <td>4948</td>\n",
       "      <td>37054</td>\n",
       "    </tr>\n",
       "    <tr>\n",
       "      <th>F-merging</th>\n",
       "      <td>3935</td>\n",
       "      <td>29461</td>\n",
       "    </tr>\n",
       "    <tr>\n",
       "      <th>G-merging</th>\n",
       "      <td>3864</td>\n",
       "      <td>29153</td>\n",
       "    </tr>\n",
       "    <tr>\n",
       "      <th>FG-merging</th>\n",
       "      <td>2851</td>\n",
       "      <td>22109</td>\n",
       "    </tr>\n",
       "    <tr>\n",
       "      <th>FG-merging+compl</th>\n",
       "      <td>2851</td>\n",
       "      <td>22109</td>\n",
       "    </tr>\n",
       "  </tbody>\n",
       "</table>\n",
       "</div>"
      ],
      "text/plain": [
       "column            states  transitions\n",
       "tool                                 \n",
       "basic               4948        37054\n",
       "F-merging           3935        29461\n",
       "G-merging           3864        29153\n",
       "FG-merging          2851        22109\n",
       "FG-merging+compl    2851        22109"
      ]
     },
     "execution_count": 8,
     "metadata": {},
     "output_type": "execute_result"
    }
   ],
   "source": [
    "t1_alt = MI_alt.cummulative(col=[\"states\",\"transitions\"]).unstack(level=0).loc[MI_order,:]\n",
    "t1_alt"
   ]
  },
  {
   "cell_type": "markdown",
   "metadata": {},
   "source": [
    "### Nondeterministic automata"
   ]
  },
  {
   "cell_type": "code",
   "execution_count": 9,
   "metadata": {
    "collapsed": true
   },
   "outputs": [],
   "source": [
    "### Tools' setting ###\n",
    "ltl3tela_shared = \"ltl3tela -p2 -s0 -u0 -z0 -f %f -a3 -n0 \"\n",
    "end = \" > %O\"\n",
    "tools = {\"FG-merging\"       : ltl3tela_shared + end,\n",
    "         \"FG-merging+compl\" : ltl3tela_shared + \"-n1\" + end,\n",
    "         \"F-merging\"        : ltl3tela_shared + \"-G0\" + end,\n",
    "         \"G-merging\"        : ltl3tela_shared + \"-F0\" + end,\n",
    "         \"basic\"            : ltl3tela_shared + \"-F0 -G0\" + end,\n",
    "        }\n",
    "### File with measured statistics ###\n",
    "merging_imp = 'MI_nondet-corr.csv'\n",
    "cols=[\"states\",\"transitions\",\"nondet_aut\"]"
   ]
  },
  {
   "cell_type": "code",
   "execution_count": 10,
   "metadata": {
    "collapsed": true
   },
   "outputs": [],
   "source": [
    "MI_nondet = LtlcrossRunner(tools,res_filename=merging_imp,\n",
    "                           formula_files=[fg_f],\n",
    "                           cols=cols)\n",
    "if rerun:\n",
    "    MI_nondet.run_ltlcross()\n",
    "MI_nondet.parse_results()"
   ]
  },
  {
   "cell_type": "markdown",
   "metadata": {},
   "source": [
    "Here are the cumulative number of states, transitions, and number of deterministic automata for each translation. "
   ]
  },
  {
   "cell_type": "code",
   "execution_count": 11,
   "metadata": {},
   "outputs": [
    {
     "data": {
      "text/html": [
       "<div>\n",
       "<style scoped>\n",
       "    .dataframe tbody tr th:only-of-type {\n",
       "        vertical-align: middle;\n",
       "    }\n",
       "\n",
       "    .dataframe tbody tr th {\n",
       "        vertical-align: top;\n",
       "    }\n",
       "\n",
       "    .dataframe thead th {\n",
       "        text-align: right;\n",
       "    }\n",
       "</style>\n",
       "<table border=\"1\" class=\"dataframe\">\n",
       "  <thead>\n",
       "    <tr style=\"text-align: right;\">\n",
       "      <th>column</th>\n",
       "      <th>states</th>\n",
       "      <th>transitions</th>\n",
       "      <th>det. aut.</th>\n",
       "    </tr>\n",
       "    <tr>\n",
       "      <th>tool</th>\n",
       "      <th></th>\n",
       "      <th></th>\n",
       "      <th></th>\n",
       "    </tr>\n",
       "  </thead>\n",
       "  <tbody>\n",
       "    <tr>\n",
       "      <th>basic</th>\n",
       "      <td>3605</td>\n",
       "      <td>26029</td>\n",
       "      <td>137</td>\n",
       "    </tr>\n",
       "    <tr>\n",
       "      <th>F-merging</th>\n",
       "      <td>3114</td>\n",
       "      <td>25188</td>\n",
       "      <td>288</td>\n",
       "    </tr>\n",
       "    <tr>\n",
       "      <th>G-merging</th>\n",
       "      <td>3639</td>\n",
       "      <td>26269</td>\n",
       "      <td>126</td>\n",
       "    </tr>\n",
       "    <tr>\n",
       "      <th>FG-merging</th>\n",
       "      <td>2623</td>\n",
       "      <td>20339</td>\n",
       "      <td>278</td>\n",
       "    </tr>\n",
       "    <tr>\n",
       "      <th>FG-merging+compl</th>\n",
       "      <td>2594</td>\n",
       "      <td>20086</td>\n",
       "      <td>297</td>\n",
       "    </tr>\n",
       "  </tbody>\n",
       "</table>\n",
       "</div>"
      ],
      "text/plain": [
       "column            states  transitions  det. aut.\n",
       "tool                                            \n",
       "basic               3605        26029        137\n",
       "F-merging           3114        25188        288\n",
       "G-merging           3639        26269        126\n",
       "FG-merging          2623        20339        278\n",
       "FG-merging+compl    2594        20086        297"
      ]
     },
     "execution_count": 11,
     "metadata": {},
     "output_type": "execute_result"
    }
   ],
   "source": [
    "tmp = MI_nondet.cummulative(col=cols).unstack(level=0).loc[MI_order,cols]\n",
    "t1_nondet = tmp.loc[:,['states','transitions']]\n",
    "t1_nondet[\"det. aut.\"] = total-tmp.nondet_aut\n",
    "t1_nondet"
   ]
  },
  {
   "cell_type": "markdown",
   "metadata": {},
   "source": [
    "We merge the two tables and format the table labels for latex output."
   ]
  },
  {
   "cell_type": "code",
   "execution_count": 12,
   "metadata": {},
   "outputs": [
    {
     "data": {
      "text/html": [
       "<div>\n",
       "<style scoped>\n",
       "    .dataframe tbody tr th:only-of-type {\n",
       "        vertical-align: middle;\n",
       "    }\n",
       "\n",
       "    .dataframe tbody tr th {\n",
       "        vertical-align: top;\n",
       "    }\n",
       "\n",
       "    .dataframe thead tr th {\n",
       "        text-align: left;\n",
       "    }\n",
       "\n",
       "    .dataframe thead tr:last-of-type th {\n",
       "        text-align: right;\n",
       "    }\n",
       "</style>\n",
       "<table border=\"1\" class=\"dataframe\">\n",
       "  <thead>\n",
       "    <tr>\n",
       "      <th></th>\n",
       "      <th colspan=\"2\" halign=\"left\">SLAA (alternating)</th>\n",
       "      <th colspan=\"3\" halign=\"left\">TELA(nondeterministic)</th>\n",
       "    </tr>\n",
       "    <tr>\n",
       "      <th>column</th>\n",
       "      <th>states</th>\n",
       "      <th>transitions</th>\n",
       "      <th>states</th>\n",
       "      <th>transitions</th>\n",
       "      <th>det. aut.</th>\n",
       "    </tr>\n",
       "    <tr>\n",
       "      <th>tool</th>\n",
       "      <th></th>\n",
       "      <th></th>\n",
       "      <th></th>\n",
       "      <th></th>\n",
       "      <th></th>\n",
       "    </tr>\n",
       "  </thead>\n",
       "  <tbody>\n",
       "    <tr>\n",
       "      <th>basic</th>\n",
       "      <td>4948</td>\n",
       "      <td>37054</td>\n",
       "      <td>3605</td>\n",
       "      <td>26029</td>\n",
       "      <td>137</td>\n",
       "    </tr>\n",
       "    <tr>\n",
       "      <th>F-merging</th>\n",
       "      <td>3935</td>\n",
       "      <td>29461</td>\n",
       "      <td>3114</td>\n",
       "      <td>25188</td>\n",
       "      <td>288</td>\n",
       "    </tr>\n",
       "    <tr>\n",
       "      <th>G-merging</th>\n",
       "      <td>3864</td>\n",
       "      <td>29153</td>\n",
       "      <td>3639</td>\n",
       "      <td>26269</td>\n",
       "      <td>126</td>\n",
       "    </tr>\n",
       "    <tr>\n",
       "      <th>FG-merging</th>\n",
       "      <td>2851</td>\n",
       "      <td>22109</td>\n",
       "      <td>2623</td>\n",
       "      <td>20339</td>\n",
       "      <td>278</td>\n",
       "    </tr>\n",
       "    <tr>\n",
       "      <th>FG-merging+compl</th>\n",
       "      <td>2851</td>\n",
       "      <td>22109</td>\n",
       "      <td>2594</td>\n",
       "      <td>20086</td>\n",
       "      <td>297</td>\n",
       "    </tr>\n",
       "  </tbody>\n",
       "</table>\n",
       "</div>"
      ],
      "text/plain": [
       "                 SLAA (alternating)             TELA(nondeterministic)  \\\n",
       "column                       states transitions                 states   \n",
       "tool                                                                     \n",
       "basic                          4948       37054                   3605   \n",
       "F-merging                      3935       29461                   3114   \n",
       "G-merging                      3864       29153                   3639   \n",
       "FG-merging                     2851       22109                   2623   \n",
       "FG-merging+compl               2851       22109                   2594   \n",
       "\n",
       "                                        \n",
       "column           transitions det. aut.  \n",
       "tool                                    \n",
       "basic                  26029       137  \n",
       "F-merging              25188       288  \n",
       "G-merging              26269       126  \n",
       "FG-merging             20339       278  \n",
       "FG-merging+compl       20086       297  "
      ]
     },
     "execution_count": 12,
     "metadata": {},
     "output_type": "execute_result"
    }
   ],
   "source": [
    "t1 = pd.concat([t1_alt,t1_nondet],axis=1,keys=['SLAA (alternating)','TELA(nondeterministic)']).loc[MI_order,:]\n",
    "t1"
   ]
  },
  {
   "cell_type": "code",
   "execution_count": 13,
   "metadata": {
    "collapsed": true
   },
   "outputs": [
    {
     "data": {
      "text/html": [
       "<div>\n",
       "<style scoped>\n",
       "    .dataframe tbody tr th:only-of-type {\n",
       "        vertical-align: middle;\n",
       "    }\n",
       "\n",
       "    .dataframe tbody tr th {\n",
       "        vertical-align: top;\n",
       "    }\n",
       "\n",
       "    .dataframe thead tr th {\n",
       "        text-align: left;\n",
       "    }\n",
       "</style>\n",
       "<table border=\"1\" class=\"dataframe\">\n",
       "  <thead>\n",
       "    <tr>\n",
       "      <th></th>\n",
       "      <th colspan=\"2\" halign=\"left\">SLAA (alternating)</th>\n",
       "      <th colspan=\"3\" halign=\"left\">TELA(nondeterministic)</th>\n",
       "    </tr>\n",
       "    <tr>\n",
       "      <th>translation</th>\n",
       "      <th>states</th>\n",
       "      <th>transitions</th>\n",
       "      <th>states</th>\n",
       "      <th>transitions</th>\n",
       "      <th>det. aut.</th>\n",
       "    </tr>\n",
       "  </thead>\n",
       "  <tbody>\n",
       "    <tr>\n",
       "      <th>basic translation</th>\n",
       "      <td>4948</td>\n",
       "      <td>37054</td>\n",
       "      <td>3605</td>\n",
       "      <td>26029</td>\n",
       "      <td>137</td>\n",
       "    </tr>\n",
       "    <tr>\n",
       "      <th>$\\F$-merging</th>\n",
       "      <td>3935</td>\n",
       "      <td>29461</td>\n",
       "      <td>3114</td>\n",
       "      <td>25188</td>\n",
       "      <td>288</td>\n",
       "    </tr>\n",
       "    <tr>\n",
       "      <th>$\\G$-merging</th>\n",
       "      <td>3864</td>\n",
       "      <td>29153</td>\n",
       "      <td>3639</td>\n",
       "      <td>26269</td>\n",
       "      <td>126</td>\n",
       "    </tr>\n",
       "    <tr>\n",
       "      <th>$\\FG$-merging</th>\n",
       "      <td>2851</td>\n",
       "      <td>22109</td>\n",
       "      <td>2623</td>\n",
       "      <td>20339</td>\n",
       "      <td>278</td>\n",
       "    </tr>\n",
       "    <tr>\n",
       "      <th>$\\FG$-merging + complement</th>\n",
       "      <td>2851</td>\n",
       "      <td>22109</td>\n",
       "      <td>2594</td>\n",
       "      <td>20086</td>\n",
       "      <td>297</td>\n",
       "    </tr>\n",
       "  </tbody>\n",
       "</table>\n",
       "</div>"
      ],
      "text/plain": [
       "                           SLAA (alternating)              \\\n",
       "translation                            states transitions   \n",
       "basic translation                        4948       37054   \n",
       "$\\F$-merging                             3935       29461   \n",
       "$\\G$-merging                             3864       29153   \n",
       "$\\FG$-merging                            2851       22109   \n",
       "$\\FG$-merging + complement               2851       22109   \n",
       "\n",
       "                           TELA(nondeterministic)                        \n",
       "translation                                states transitions det. aut.  \n",
       "basic translation                            3605       26029       137  \n",
       "$\\F$-merging                                 3114       25188       288  \n",
       "$\\G$-merging                                 3639       26269       126  \n",
       "$\\FG$-merging                                2623       20339       278  \n",
       "$\\FG$-merging + complement                   2594       20086       297  "
      ]
     },
     "execution_count": 13,
     "metadata": {},
     "output_type": "execute_result"
    }
   ],
   "source": [
    "row_map={\"basic\"            : 'basic translation',\n",
    "         \"F-merging\"        : '$\\F$-merging',\n",
    "         \"G-merging\"        : '$\\G$-merging',\n",
    "         \"FG-merging\"       : '$\\FG$-merging',\n",
    "         \"FG-merging+compl\" : \"$\\FG$-merging + complement\"}\n",
    "t1.rename(row_map,inplace=True);\n",
    "t1 = t1.rename_axis(['',\"translation\"],axis=1)\n",
    "t1.index.name = None\n",
    "t1"
   ]
  },
  {
   "cell_type": "code",
   "execution_count": 23,
   "metadata": {
    "collapsed": true
   },
   "outputs": [],
   "source": [
    "print(t1.to_latex(escape=False,bold_rows=True),file=open('atva_t1.tex','w'))"
   ]
  },
  {
   "cell_type": "markdown",
   "metadata": {},
   "source": [
    "## Comparison with LTL to TGBA translators"
   ]
  },
  {
   "cell_type": "markdown",
   "metadata": {},
   "source": [
    "We compare LTL3TELA with $\\FG$-merging and the complement optimization to Spot and LTL3BA. We use the same set of formulae as before."
   ]
  },
  {
   "cell_type": "markdown",
   "metadata": {},
   "source": [
    "### Nondeterministic automata"
   ]
  },
  {
   "cell_type": "code",
   "execution_count": 15,
   "metadata": {
    "collapsed": true
   },
   "outputs": [],
   "source": [
    "### Tools' setting ###\n",
    "ltl3tela_shared = \"ltl3tela -p2 -f %f -n0 \"\n",
    "end = \" > %O\"\n",
    "tools = {\"LTL3TELA\"       : ltl3tela_shared + end,\n",
    "         \"LTL3TELA+compl\" : ltl3tela_shared + \"-n1 \" + end,\n",
    "         \"LTL3BA\"         : 'ltl3ba -H2 -f %s | autfilt --small > %O',         \n",
    "         \"SPOT-det\"       : 'ltl2tgba --deterministic -H %f>%O',\n",
    "         \"SPOT-small\"     : 'ltl2tgba --small -H %f>%O',\n",
    "        }\n",
    "tgba = [\"LTL3BA\",\"SPOT-det\",\"SPOT-small\"]\n",
    "### File with measured statistics ###\n",
    "comp_res = 'comp_nondet-corr.csv'"
   ]
  },
  {
   "cell_type": "code",
   "execution_count": 16,
   "metadata": {
    "collapsed": true
   },
   "outputs": [],
   "source": [
    "comp = LtlcrossRunner(tools,res_filename=comp_res,\n",
    "                           formula_files=[fg_f],\n",
    "                           cols=cols)\n",
    "if rerun:\n",
    "    comp.run_ltlcross()\n",
    "comp.parse_results()"
   ]
  },
  {
   "cell_type": "markdown",
   "metadata": {},
   "source": [
    "We compute the cummulative numbers for each category (stored in cols) and we shape the data into nice table."
   ]
  },
  {
   "cell_type": "code",
   "execution_count": 17,
   "metadata": {},
   "outputs": [
    {
     "data": {
      "text/html": [
       "<div>\n",
       "<style scoped>\n",
       "    .dataframe tbody tr th:only-of-type {\n",
       "        vertical-align: middle;\n",
       "    }\n",
       "\n",
       "    .dataframe tbody tr th {\n",
       "        vertical-align: top;\n",
       "    }\n",
       "\n",
       "    .dataframe thead th {\n",
       "        text-align: right;\n",
       "    }\n",
       "</style>\n",
       "<table border=\"1\" class=\"dataframe\">\n",
       "  <thead>\n",
       "    <tr style=\"text-align: right;\">\n",
       "      <th>column</th>\n",
       "      <th>states</th>\n",
       "      <th>transitions</th>\n",
       "      <th>deterministic</th>\n",
       "    </tr>\n",
       "    <tr>\n",
       "      <th>tool</th>\n",
       "      <th></th>\n",
       "      <th></th>\n",
       "      <th></th>\n",
       "    </tr>\n",
       "  </thead>\n",
       "  <tbody>\n",
       "    <tr>\n",
       "      <th>LTL3BA</th>\n",
       "      <td>3375</td>\n",
       "      <td>22426</td>\n",
       "      <td>176</td>\n",
       "    </tr>\n",
       "    <tr>\n",
       "      <th>SPOT-det</th>\n",
       "      <td>3154</td>\n",
       "      <td>21221</td>\n",
       "      <td>259</td>\n",
       "    </tr>\n",
       "    <tr>\n",
       "      <th>SPOT-small</th>\n",
       "      <td>3144</td>\n",
       "      <td>21176</td>\n",
       "      <td>252</td>\n",
       "    </tr>\n",
       "    <tr>\n",
       "      <th>LTL3TELA</th>\n",
       "      <td>2508</td>\n",
       "      <td>19221</td>\n",
       "      <td>287</td>\n",
       "    </tr>\n",
       "    <tr>\n",
       "      <th>LTL3TELA+compl</th>\n",
       "      <td>2419</td>\n",
       "      <td>18476</td>\n",
       "      <td>364</td>\n",
       "    </tr>\n",
       "  </tbody>\n",
       "</table>\n",
       "</div>"
      ],
      "text/plain": [
       "column          states  transitions  deterministic\n",
       "tool                                              \n",
       "LTL3BA            3375        22426            176\n",
       "SPOT-det          3154        21221            259\n",
       "SPOT-small        3144        21176            252\n",
       "LTL3TELA          2508        19221            287\n",
       "LTL3TELA+compl    2419        18476            364"
      ]
     },
     "execution_count": 17,
     "metadata": {},
     "output_type": "execute_result"
    }
   ],
   "source": [
    "tmp = comp.cummulative(col=cols).unstack(level=0)\n",
    "tmp = tmp.loc[tgba+['LTL3TELA',\"LTL3TELA+compl\"]+comp.mins,:][cols]\n",
    "tmp2 = tmp.loc[:,['states','transitions']]\n",
    "tmp2[\"deterministic\"] = total-tmp.nondet_aut\n",
    "tmp2"
   ]
  },
  {
   "cell_type": "markdown",
   "metadata": {},
   "source": [
    "For the paper, we choose only one configuration for each tool we do not use the virtual tools at all. Again, we create nicer labels."
   ]
  },
  {
   "cell_type": "code",
   "execution_count": 18,
   "metadata": {},
   "outputs": [
    {
     "data": {
      "text/html": [
       "<div>\n",
       "<style scoped>\n",
       "    .dataframe tbody tr th:only-of-type {\n",
       "        vertical-align: middle;\n",
       "    }\n",
       "\n",
       "    .dataframe tbody tr th {\n",
       "        vertical-align: top;\n",
       "    }\n",
       "\n",
       "    .dataframe thead th {\n",
       "        text-align: right;\n",
       "    }\n",
       "</style>\n",
       "<table border=\"1\" class=\"dataframe\">\n",
       "  <thead>\n",
       "    <tr style=\"text-align: right;\">\n",
       "      <th>tool</th>\n",
       "      <th>states</th>\n",
       "      <th>transitions</th>\n",
       "      <th>deterministic</th>\n",
       "    </tr>\n",
       "  </thead>\n",
       "  <tbody>\n",
       "    <tr>\n",
       "      <th>LTL3BA</th>\n",
       "      <td>3375</td>\n",
       "      <td>22426</td>\n",
       "      <td>176</td>\n",
       "    </tr>\n",
       "    <tr>\n",
       "      <th>SPOT</th>\n",
       "      <td>3144</td>\n",
       "      <td>21176</td>\n",
       "      <td>252</td>\n",
       "    </tr>\n",
       "    <tr>\n",
       "      <th>LTL3TELA</th>\n",
       "      <td>2419</td>\n",
       "      <td>18476</td>\n",
       "      <td>364</td>\n",
       "    </tr>\n",
       "  </tbody>\n",
       "</table>\n",
       "</div>"
      ],
      "text/plain": [
       "tool      states  transitions  deterministic\n",
       "LTL3BA      3375        22426            176\n",
       "SPOT        3144        21176            252\n",
       "LTL3TELA    2419        18476            364"
      ]
     },
     "execution_count": 18,
     "metadata": {},
     "output_type": "execute_result"
    }
   ],
   "source": [
    "# Rename\n",
    "paper_tools = ['LTL3BA','SPOT-small','LTL3TELA+compl']\n",
    "row_map = {\n",
    "  'LTL3BA'      : 'LTL3BA',  \n",
    "  'SPOT-small'  : 'SPOT',\n",
    "  'LTL3TELA+compl': 'LTL3TELA'\n",
    "}\n",
    "t2 = tmp2.loc[paper_tools].rename(row_map)\n",
    "# Get rid of the label for columns and keep `tool` only\n",
    "t2 = t2.rename_axis(\"tool\",axis=1)\n",
    "t2.index.name=None\n",
    "t2"
   ]
  },
  {
   "cell_type": "code",
   "execution_count": 24,
   "metadata": {},
   "outputs": [],
   "source": [
    "print(t2.to_latex(bold_rows=True),file=open('atva_t2.tex','w'))"
   ]
  }
 ],
 "metadata": {
  "kernelspec": {
   "display_name": "Python 3",
   "language": "python",
   "name": "python3"
  },
  "language_info": {
   "codemirror_mode": {
    "name": "ipython",
    "version": 3
   },
   "file_extension": ".py",
   "mimetype": "text/x-python",
   "name": "python",
   "nbconvert_exporter": "python",
   "pygments_lexer": "ipython3",
   "version": "3.4.3"
  }
 },
 "nbformat": 4,
 "nbformat_minor": 2
}

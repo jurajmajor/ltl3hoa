{
 "cells": [
  {
   "cell_type": "markdown",
   "metadata": {},
   "source": [
    "# Experiments for FOSSACS'19\n",
    "- Paper: *LTL to Smaller Self-Loop Alternating Automata*\n",
    "- Authors: *František Blahoudek, Juraj Major, Jan Strejček*"
   ]
  },
  {
   "cell_type": "code",
   "execution_count": 1,
   "metadata": {
    "collapsed": true
   },
   "outputs": [],
   "source": [
    "from ltlcross_runner import LtlcrossRunner\n",
    "from IPython.display import display\n",
    "import pandas as pd\n",
    "import spot\n",
    "import sys\n",
    "spot.setup(show_default='.a')\n",
    "pd.options.display.float_format = '{: .0f}'.format\n",
    "pd.options.display.latex.multicolumn_format = 'c'"
   ]
  },
  {
   "cell_type": "markdown",
   "metadata": {},
   "source": [
    "Hack that alows to parse ltl3ba automata without universal branching."
   ]
  },
  {
   "cell_type": "code",
   "execution_count": 2,
   "metadata": {},
   "outputs": [],
   "source": [
    "import os\n",
    "os.environ['SPOT_HOA_TOLERANT']='TRUE'"
   ]
  },
  {
   "cell_type": "code",
   "execution_count": 3,
   "metadata": {},
   "outputs": [
    {
     "name": "stdout",
     "output_type": "stream",
     "text": [
      "LTL3BA 1.1.3\n",
      "LTL3TELA 1.2.1 (using Spot 2.6.3)\n",
      "ltl2tgba (spot) 2.6.3\n",
      "\n",
      "Copyright (C) 2018  Laboratoire de Recherche et Développement de l'Epita.\n",
      "License GPLv3+: GNU GPL version 3 or later <http://gnu.org/licenses/gpl.html>.\n",
      "This is free software: you are free to change and redistribute it.\n",
      "There is NO WARRANTY, to the extent permitted by law.\n"
     ]
    }
   ],
   "source": [
    "%%bash\n",
    "ltl3ba -v\n",
    "ltl3tela -v\n",
    "ltl2tgba --version"
   ]
  },
  {
   "cell_type": "code",
   "execution_count": 4,
   "metadata": {
    "collapsed": true
   },
   "outputs": [],
   "source": [
    "# If there are already files with results, and rerun is False, ltlcross is not run again.\n",
    "rerun = False"
   ]
  },
  {
   "cell_type": "markdown",
   "metadata": {},
   "source": [
    "$\\newcommand{\\F}{\\mathsf{F}}$\n",
    "$\\newcommand{\\G}{\\mathsf{G}}$\n",
    "$\\newcommand{\\FG}{\\mathsf{F,G}}$\n",
    "## Formulae"
   ]
  },
  {
   "cell_type": "markdown",
   "metadata": {},
   "source": [
    "### Detect mergable formulae"
   ]
  },
  {
   "cell_type": "code",
   "execution_count": 5,
   "metadata": {},
   "outputs": [],
   "source": [
    "def is_mergable(f, level=3):\n",
    "    '''Runs ltl3tela with the -m argument to detect\n",
    "    whether the given formula `f` is mergable.\n",
    "    level 1: F-mergeable\n",
    "    level 2: G-mergeable\n",
    "    level 3: F,G-mergeable\n",
    "    '''\n",
    "    if level == 3:\n",
    "        return is_mergable(f,2) or is_mergable(f,1)\n",
    "    res = !ltl3tela -m{level} -f \"{f}\"\n",
    "    return res[0] == '1'"
   ]
  },
  {
   "cell_type": "code",
   "execution_count": 6,
   "metadata": {},
   "outputs": [
    {
     "data": {
      "text/plain": [
       "False"
      ]
     },
     "execution_count": 6,
     "metadata": {},
     "output_type": "execute_result"
    }
   ],
   "source": [
    "is_mergable('FGa',2)"
   ]
  },
  {
   "cell_type": "markdown",
   "metadata": {},
   "source": [
    "### Literature"
   ]
  },
  {
   "cell_type": "code",
   "execution_count": 7,
   "metadata": {},
   "outputs": [],
   "source": [
    "tmp_file      = 'formulae/tmp.ltl'\n",
    "lit_pref      = 'formulae/literature'\n",
    "lit_file      = lit_pref + '.ltl'\n",
    "lit_merg_file = 'formulae/lit.ltl'"
   ]
  },
  {
   "cell_type": "code",
   "execution_count": 8,
   "metadata": {},
   "outputs": [],
   "source": [
    "# The well-known set of formulae from literature\n",
    "!genltl --dac-patterns --eh-patterns --sb-patterns --beem-patterns --hkrss-patterns > $tmp_file"
   ]
  },
  {
   "cell_type": "code",
   "execution_count": 9,
   "metadata": {},
   "outputs": [],
   "source": [
    "# We add also negation of all the formulae.\n",
    "# We remove all M and W operators as LTL3BA does not understand them. \n",
    "# The `relabel-bool` option renames `G(a | b)` into `G a`.\n",
    "!ltlfilt --negate $tmp_file | \\\n",
    "ltlfilt $tmp_file -F - --unique -r3 --remove-wm --relabel-bool=abc | \\\n",
    "     ltlfilt -v --equivalent-to=0 | ltlfilt -v --equivalent-to=1> $lit_file"
   ]
  },
  {
   "cell_type": "markdown",
   "metadata": {},
   "source": [
    "#### Mergeable formulae\n",
    "We first count the numbers of formulae with $\\F$- and $\\FG$-merging. After that we save the $\\FG$-mergeable formulae into a separate file."
   ]
  },
  {
   "cell_type": "code",
   "execution_count": 10,
   "metadata": {},
   "outputs": [],
   "source": [
    "lit_f_mergable = [is_mergable(l,1) for l in open(lit_file)]\n",
    "lit_mergable = [is_mergable(l,3) for l in open(lit_file)]"
   ]
  },
  {
   "cell_type": "code",
   "execution_count": 11,
   "metadata": {},
   "outputs": [
    {
     "name": "stdout",
     "output_type": "stream",
     "text": [
      "Out of 221 formulae known from literature, there are:\n",
      "15 with F-merging,\n",
      "24 with F,G-merging, and\n",
      "197 with no merging possibility\n",
      "\n"
     ]
    }
   ],
   "source": [
    "counts = '''Out of {} formulae known from literature, there are:\n",
    "{} with F-merging,\n",
    "{} with F,G-merging, and\n",
    "{} with no merging possibility\n",
    "'''\n",
    "print(counts.format(\n",
    "    len(lit_mergable),\n",
    "    lit_f_mergable.count(True),\n",
    "    lit_mergable.count(True),\n",
    "    lit_mergable.count(False)))"
   ]
  },
  {
   "cell_type": "code",
   "execution_count": 12,
   "metadata": {},
   "outputs": [],
   "source": [
    "with open(lit_merg_file,'w') as out:\n",
    "    for l in open(lit_file):\n",
    "        if is_mergable(l):\n",
    "            out.write(l)"
   ]
  },
  {
   "cell_type": "markdown",
   "metadata": {},
   "source": [
    "### Random"
   ]
  },
  {
   "cell_type": "code",
   "execution_count": 13,
   "metadata": {
    "collapsed": true
   },
   "outputs": [],
   "source": [
    "def generate(n=100,func=(lambda x: True),filename=None,priorities='M=0,W=0,xor=0',ap=['a','b','c','d','e']):\n",
    "    if filename is not None:\n",
    "        if filename is sys.stdout:\n",
    "            file_h = filename\n",
    "        else:\n",
    "            file_h = open(filename,'w')\n",
    "    f = spot.randltl(ap,\n",
    "                     ltl_priorities=priorities,\n",
    "                     simplify=3,tree_size=15).relabel_bse(spot.Abc)\\\n",
    "                     .unabbreviate('WM')\n",
    "    i = 0\n",
    "    printed = set()\n",
    "    while(i < n):\n",
    "        form = next(f)\n",
    "        if form in printed:\n",
    "            continue\n",
    "        if func(form) and not form.is_tt() and not form.is_ff():\n",
    "            if filename is not None:\n",
    "                print(form,file=file_h)\n",
    "            printed.add(form)\n",
    "            i += 1\n",
    "    return list(printed)"
   ]
  },
  {
   "cell_type": "code",
   "execution_count": 14,
   "metadata": {},
   "outputs": [],
   "source": [
    "def measure_rand(n=1000,priorities='M=0,W=0,xor=0',ap=['a','b','c','d','e']):\n",
    "    rand = generate(n,priorities=priorities,ap=ap)\n",
    "    rand_mergable = [is_mergable(l,3) for l in rand]\n",
    "    rand_f_mergable = [is_mergable(l,1) for l in rand]\n",
    "\n",
    "    counts = '''Out of {} random formulae, there are:\n",
    "{} with F-merging,\n",
    "{} with F,G-merging, and\n",
    "{} with no merging possibility\n",
    "'''\n",
    "    print(counts.format(\n",
    "        len(rand_mergable),\n",
    "        rand_f_mergable.count(True),\n",
    "        rand_mergable.count(True),\n",
    "        rand_mergable.count(False)))\n",
    "    return rand, rand_f_mergable, rand_mergable"
   ]
  },
  {
   "cell_type": "code",
   "execution_count": 15,
   "metadata": {},
   "outputs": [],
   "source": [
    "def get_priorities(n):\n",
    "    '''Returns the `priority string` for ltlcross\n",
    "    where `n` is the priority of both F and G. The\n",
    "    operators W,M,xor have priority 0 and the rest\n",
    "    has the priority 1.\n",
    "    '''\n",
    "    return 'M=0,W=0,xor=0,G={0},F={0}'.format(n)"
   ]
  },
  {
   "cell_type": "code",
   "execution_count": 16,
   "metadata": {},
   "outputs": [
    {
     "name": "stdout",
     "output_type": "stream",
     "text": [
      "Out of 1000 random formulae, there are:\n",
      "215 with F-merging,\n",
      "302 with F,G-merging, and\n",
      "698 with no merging possibility\n",
      "\n"
     ]
    }
   ],
   "source": [
    "measure_rand();"
   ]
  },
  {
   "cell_type": "code",
   "execution_count": 17,
   "metadata": {},
   "outputs": [
    {
     "name": "stdout",
     "output_type": "stream",
     "text": [
      "Out of 1000 random formulae, there are:\n",
      "371 with F-merging,\n",
      "488 with F,G-merging, and\n",
      "512 with no merging possibility\n",
      "\n"
     ]
    }
   ],
   "source": [
    "measure_rand(priorities=get_priorities(2));"
   ]
  },
  {
   "cell_type": "code",
   "execution_count": 18,
   "metadata": {},
   "outputs": [
    {
     "name": "stdout",
     "output_type": "stream",
     "text": [
      "Out of 1000 random formulae, there are:\n",
      "553 with F-merging,\n",
      "697 with F,G-merging, and\n",
      "303 with no merging possibility\n",
      "\n"
     ]
    }
   ],
   "source": [
    "rand4 = measure_rand(priorities=get_priorities(4))"
   ]
  },
  {
   "cell_type": "code",
   "execution_count": 19,
   "metadata": {},
   "outputs": [
    {
     "name": "stdout",
     "output_type": "stream",
     "text": [
      "Out of 1000 random formulae, there are:\n",
      "615 with F-merging,\n",
      "802 with F,G-merging, and\n",
      "198 with no merging possibility\n",
      "\n"
     ]
    }
   ],
   "source": [
    "randfg = measure_rand(priorities='xor=0,implies=0,equiv=0,X=0,W=0,M=0,R=0,U=0,F=2,G=2')"
   ]
  },
  {
   "cell_type": "markdown",
   "metadata": {},
   "source": [
    "#### Generate 1000 mergeable formulae with priorities 1,2,4"
   ]
  },
  {
   "cell_type": "code",
   "execution_count": 20,
   "metadata": {
    "collapsed": true
   },
   "outputs": [],
   "source": [
    "fg_priorities = [1,2,4]\n",
    "!mkdir -p formulae\n",
    "#generate(total_r,filename=fg_f,priorities='xor=0,implies=0,equiv=0,X=0,W=0,M=0,R=0,U=0,F=3,G=3');"
   ]
  },
  {
   "cell_type": "code",
   "execution_count": 21,
   "metadata": {},
   "outputs": [],
   "source": [
    "for i in fg_priorities:\n",
    "    generate(1000,func=lambda x:is_mergable(x,3),\n",
    "             filename='formulae/rand{}.ltl'.format(i),\n",
    "             priorities=get_priorities(i))"
   ]
  },
  {
   "cell_type": "code",
   "execution_count": 22,
   "metadata": {},
   "outputs": [],
   "source": [
    "generate(1000,func=lambda x:is_mergable(x,3),\n",
    "         filename='formulae/randfg.ltl'.format(i),\n",
    "         priorities='xor=0,implies=0,equiv=0,X=0,W=0,M=0,R=0,U=0,F=2,G=2');"
   ]
  },
  {
   "cell_type": "markdown",
   "metadata": {},
   "source": [
    "## Evaluating the impact of $\\F$- and $\\FG$-merging"
   ]
  },
  {
   "cell_type": "markdown",
   "metadata": {},
   "source": [
    "We compare the $\\F$- and $\\FG$-merging translation to the basic one. We compare the sizes of SLAA (alternating). We use a wrapper script [ltlcross_runner](ltlcross_runner.py) for ltlcross that uses the pandas library to manipulate data. It requires some settings."
   ]
  },
  {
   "cell_type": "code",
   "execution_count": 23,
   "metadata": {},
   "outputs": [],
   "source": [
    "resfiles = {}\n",
    "runners = {}"
   ]
  },
  {
   "cell_type": "code",
   "execution_count": 24,
   "metadata": {
    "collapsed": true
   },
   "outputs": [],
   "source": [
    "### Tools' setting ###\n",
    "# a dict of a form (name : ltlcross cmd)\n",
    "ltl3tela_shared = \"ltl3tela -p1 -t0 -n0 -a3 -f %f \"\n",
    "#end = \" | awk '!p;/^--END--/{p=1}' > %O\"\n",
    "end = \" > %O\"\n",
    "tools = {\"FG-merging\"       : ltl3tela_shared + end,\n",
    "         #\"FG-merging+compl\" : ltl3tela_shared + \"-n1\" + end,\n",
    "         \"F-merging\"        : ltl3tela_shared + \"-G0\" + end,\n",
    "         #\"G-merging\"        : ltl3tela_shared + \"-F0\" + end,\n",
    "         \"basic\"            : ltl3tela_shared + \"-F0 -G0\" + end,\n",
    "         \"LTL3BA\"           : \"ltl3ba -H1 -f %s\" + end,\n",
    "        }\n",
    "### Order in which we want to sort the translations\n",
    "MI_order = [\"LTL3BA\", \n",
    "            \"basic\",\"F-merging\",\"FG-merging\"]\n",
    "### Files with measured statistics ###\n",
    "resfiles['lit'] = 'MI_alt-lit.csv'\n",
    "resfiles['randfg'] = 'MI_alt-randfg.csv'\n",
    "for i in fg_priorities:\n",
    "    resfiles['rand{}'.format(i)] = 'MI_alt-rand{}.csv'.format(i)\n",
    "### Measures to be measured\n",
    "cols = [\"states\",\"transitions\",\"nondet_states\",\"nondet_aut\",\"acc\"]"
   ]
  },
  {
   "cell_type": "code",
   "execution_count": 25,
   "metadata": {},
   "outputs": [],
   "source": [
    "for name,rfile in resfiles.items():\n",
    "    runners[name] = LtlcrossRunner(tools,res_filename=rfile,\n",
    "                        formula_files=['formulae/{}.ltl'.format(name)],\n",
    "                        cols=cols)"
   ]
  },
  {
   "cell_type": "code",
   "execution_count": 26,
   "metadata": {},
   "outputs": [],
   "source": [
    "for r in runners.values():\n",
    "    if rerun:\n",
    "        r.run_ltlcross()\n",
    "    r.parse_results()"
   ]
  },
  {
   "cell_type": "code",
   "execution_count": 27,
   "metadata": {},
   "outputs": [],
   "source": [
    "t1 = {}\n",
    "for name,r in runners.items():\n",
    "    tmp = r.cummulative(col=cols).unstack(level=0).loc[MI_order,cols]\n",
    "    t1_part = tmp.loc[:,['states','acc']]\n",
    "    t1_part[\"det. automata\"] = len(r.values)-tmp.nondet_aut\n",
    "    t1[name] = t1_part"
   ]
  },
  {
   "cell_type": "code",
   "execution_count": 28,
   "metadata": {},
   "outputs": [
    {
     "data": {
      "text/html": [
       "<div>\n",
       "<style scoped>\n",
       "    .dataframe tbody tr th:only-of-type {\n",
       "        vertical-align: middle;\n",
       "    }\n",
       "\n",
       "    .dataframe tbody tr th {\n",
       "        vertical-align: top;\n",
       "    }\n",
       "\n",
       "    .dataframe thead tr th {\n",
       "        text-align: left;\n",
       "    }\n",
       "\n",
       "    .dataframe thead tr:last-of-type th {\n",
       "        text-align: right;\n",
       "    }\n",
       "</style>\n",
       "<table border=\"1\" class=\"dataframe\">\n",
       "  <thead>\n",
       "    <tr>\n",
       "      <th></th>\n",
       "      <th colspan=\"3\" halign=\"left\">lit</th>\n",
       "      <th colspan=\"3\" halign=\"left\">randfg</th>\n",
       "      <th colspan=\"3\" halign=\"left\">rand1</th>\n",
       "      <th colspan=\"3\" halign=\"left\">rand2</th>\n",
       "      <th colspan=\"3\" halign=\"left\">rand4</th>\n",
       "    </tr>\n",
       "    <tr>\n",
       "      <th>column</th>\n",
       "      <th>states</th>\n",
       "      <th>acc</th>\n",
       "      <th>det. automata</th>\n",
       "      <th>states</th>\n",
       "      <th>acc</th>\n",
       "      <th>det. automata</th>\n",
       "      <th>states</th>\n",
       "      <th>acc</th>\n",
       "      <th>det. automata</th>\n",
       "      <th>states</th>\n",
       "      <th>acc</th>\n",
       "      <th>det. automata</th>\n",
       "      <th>states</th>\n",
       "      <th>acc</th>\n",
       "      <th>det. automata</th>\n",
       "    </tr>\n",
       "    <tr>\n",
       "      <th>tool</th>\n",
       "      <th></th>\n",
       "      <th></th>\n",
       "      <th></th>\n",
       "      <th></th>\n",
       "      <th></th>\n",
       "      <th></th>\n",
       "      <th></th>\n",
       "      <th></th>\n",
       "      <th></th>\n",
       "      <th></th>\n",
       "      <th></th>\n",
       "      <th></th>\n",
       "      <th></th>\n",
       "      <th></th>\n",
       "      <th></th>\n",
       "    </tr>\n",
       "  </thead>\n",
       "  <tbody>\n",
       "    <tr>\n",
       "      <th>LTL3BA</th>\n",
       "      <td>140</td>\n",
       "      <td>24</td>\n",
       "      <td>6</td>\n",
       "      <td>5051</td>\n",
       "      <td>1000</td>\n",
       "      <td>91</td>\n",
       "      <td>6253</td>\n",
       "      <td>1000</td>\n",
       "      <td>92</td>\n",
       "      <td>6309</td>\n",
       "      <td>1000</td>\n",
       "      <td>82</td>\n",
       "      <td>6412</td>\n",
       "      <td>1000</td>\n",
       "      <td>60</td>\n",
       "    </tr>\n",
       "    <tr>\n",
       "      <th>basic</th>\n",
       "      <td>140</td>\n",
       "      <td>48</td>\n",
       "      <td>6</td>\n",
       "      <td>5051</td>\n",
       "      <td>1907</td>\n",
       "      <td>91</td>\n",
       "      <td>6234</td>\n",
       "      <td>2148</td>\n",
       "      <td>91</td>\n",
       "      <td>6283</td>\n",
       "      <td>2340</td>\n",
       "      <td>82</td>\n",
       "      <td>6393</td>\n",
       "      <td>2473</td>\n",
       "      <td>60</td>\n",
       "    </tr>\n",
       "    <tr>\n",
       "      <th>F-merging</th>\n",
       "      <td>110</td>\n",
       "      <td>70</td>\n",
       "      <td>9</td>\n",
       "      <td>3926</td>\n",
       "      <td>2249</td>\n",
       "      <td>296</td>\n",
       "      <td>5428</td>\n",
       "      <td>2311</td>\n",
       "      <td>228</td>\n",
       "      <td>5302</td>\n",
       "      <td>2589</td>\n",
       "      <td>209</td>\n",
       "      <td>5255</td>\n",
       "      <td>2820</td>\n",
       "      <td>179</td>\n",
       "    </tr>\n",
       "    <tr>\n",
       "      <th>FG-merging</th>\n",
       "      <td>65</td>\n",
       "      <td>98</td>\n",
       "      <td>9</td>\n",
       "      <td>2744</td>\n",
       "      <td>2978</td>\n",
       "      <td>270</td>\n",
       "      <td>4604</td>\n",
       "      <td>2971</td>\n",
       "      <td>214</td>\n",
       "      <td>4307</td>\n",
       "      <td>3318</td>\n",
       "      <td>203</td>\n",
       "      <td>4041</td>\n",
       "      <td>3677</td>\n",
       "      <td>173</td>\n",
       "    </tr>\n",
       "  </tbody>\n",
       "</table>\n",
       "</div>"
      ],
      "text/plain": [
       "              lit                   randfg                      rand1        \\\n",
       "column     states acc det. automata states   acc det. automata states   acc   \n",
       "tool                                                                          \n",
       "LTL3BA        140  24             6   5051  1000            91   6253  1000   \n",
       "basic         140  48             6   5051  1907            91   6234  2148   \n",
       "F-merging     110  70             9   3926  2249           296   5428  2311   \n",
       "FG-merging     65  98             9   2744  2978           270   4604  2971   \n",
       "\n",
       "                          rand2                      rand4                      \n",
       "column     det. automata states   acc det. automata states   acc det. automata  \n",
       "tool                                                                            \n",
       "LTL3BA                92   6309  1000            82   6412  1000            60  \n",
       "basic                 91   6283  2340            82   6393  2473            60  \n",
       "F-merging            228   5302  2589           209   5255  2820           179  \n",
       "FG-merging           214   4307  3318           203   4041  3677           173  "
      ]
     },
     "execution_count": 28,
     "metadata": {},
     "output_type": "execute_result"
    }
   ],
   "source": [
    "t1_merged = pd.concat(t1.values(),axis=1,keys=t1.keys()).loc[MI_order,:]\n",
    "t1_merged"
   ]
  },
  {
   "cell_type": "code",
   "execution_count": 29,
   "metadata": {},
   "outputs": [
    {
     "data": {
      "text/html": [
       "<div>\n",
       "<style scoped>\n",
       "    .dataframe tbody tr th:only-of-type {\n",
       "        vertical-align: middle;\n",
       "    }\n",
       "\n",
       "    .dataframe tbody tr th {\n",
       "        vertical-align: top;\n",
       "    }\n",
       "\n",
       "    .dataframe thead tr th {\n",
       "        text-align: left;\n",
       "    }\n",
       "</style>\n",
       "<table border=\"1\" class=\"dataframe\">\n",
       "  <thead>\n",
       "    <tr>\n",
       "      <th></th>\n",
       "      <th colspan=\"3\" halign=\"left\">lit</th>\n",
       "      <th colspan=\"3\" halign=\"left\">randfg</th>\n",
       "      <th colspan=\"3\" halign=\"left\">rand1</th>\n",
       "      <th colspan=\"3\" halign=\"left\">rand2</th>\n",
       "      <th colspan=\"3\" halign=\"left\">rand4</th>\n",
       "    </tr>\n",
       "    <tr>\n",
       "      <th>translation</th>\n",
       "      <th>states</th>\n",
       "      <th>acc</th>\n",
       "      <th>det. automata</th>\n",
       "      <th>states</th>\n",
       "      <th>acc</th>\n",
       "      <th>det. automata</th>\n",
       "      <th>states</th>\n",
       "      <th>acc</th>\n",
       "      <th>det. automata</th>\n",
       "      <th>states</th>\n",
       "      <th>acc</th>\n",
       "      <th>det. automata</th>\n",
       "      <th>states</th>\n",
       "      <th>acc</th>\n",
       "      <th>det. automata</th>\n",
       "    </tr>\n",
       "  </thead>\n",
       "  <tbody>\n",
       "    <tr>\n",
       "      <th>LTL3BA</th>\n",
       "      <td>140</td>\n",
       "      <td>24</td>\n",
       "      <td>6</td>\n",
       "      <td>5051</td>\n",
       "      <td>1000</td>\n",
       "      <td>91</td>\n",
       "      <td>6253</td>\n",
       "      <td>1000</td>\n",
       "      <td>92</td>\n",
       "      <td>6309</td>\n",
       "      <td>1000</td>\n",
       "      <td>82</td>\n",
       "      <td>6412</td>\n",
       "      <td>1000</td>\n",
       "      <td>60</td>\n",
       "    </tr>\n",
       "    <tr>\n",
       "      <th>basic</th>\n",
       "      <td>140</td>\n",
       "      <td>48</td>\n",
       "      <td>6</td>\n",
       "      <td>5051</td>\n",
       "      <td>1907</td>\n",
       "      <td>91</td>\n",
       "      <td>6234</td>\n",
       "      <td>2148</td>\n",
       "      <td>91</td>\n",
       "      <td>6283</td>\n",
       "      <td>2340</td>\n",
       "      <td>82</td>\n",
       "      <td>6393</td>\n",
       "      <td>2473</td>\n",
       "      <td>60</td>\n",
       "    </tr>\n",
       "    <tr>\n",
       "      <th>$\\F$-merging</th>\n",
       "      <td>110</td>\n",
       "      <td>70</td>\n",
       "      <td>9</td>\n",
       "      <td>3926</td>\n",
       "      <td>2249</td>\n",
       "      <td>296</td>\n",
       "      <td>5428</td>\n",
       "      <td>2311</td>\n",
       "      <td>228</td>\n",
       "      <td>5302</td>\n",
       "      <td>2589</td>\n",
       "      <td>209</td>\n",
       "      <td>5255</td>\n",
       "      <td>2820</td>\n",
       "      <td>179</td>\n",
       "    </tr>\n",
       "    <tr>\n",
       "      <th>$\\FG$-merging</th>\n",
       "      <td>65</td>\n",
       "      <td>98</td>\n",
       "      <td>9</td>\n",
       "      <td>2744</td>\n",
       "      <td>2978</td>\n",
       "      <td>270</td>\n",
       "      <td>4604</td>\n",
       "      <td>2971</td>\n",
       "      <td>214</td>\n",
       "      <td>4307</td>\n",
       "      <td>3318</td>\n",
       "      <td>203</td>\n",
       "      <td>4041</td>\n",
       "      <td>3677</td>\n",
       "      <td>173</td>\n",
       "    </tr>\n",
       "  </tbody>\n",
       "</table>\n",
       "</div>"
      ],
      "text/plain": [
       "                 lit                   randfg                      rand1  \\\n",
       "translation   states acc det. automata states   acc det. automata states   \n",
       "LTL3BA           140  24             6   5051  1000            91   6253   \n",
       "basic            140  48             6   5051  1907            91   6234   \n",
       "$\\F$-merging     110  70             9   3926  2249           296   5428   \n",
       "$\\FG$-merging     65  98             9   2744  2978           270   4604   \n",
       "\n",
       "                                   rand2                      rand4        \\\n",
       "translation     acc det. automata states   acc det. automata states   acc   \n",
       "LTL3BA         1000            92   6309  1000            82   6412  1000   \n",
       "basic          2148            91   6283  2340            82   6393  2473   \n",
       "$\\F$-merging   2311           228   5302  2589           209   5255  2820   \n",
       "$\\FG$-merging  2971           214   4307  3318           203   4041  3677   \n",
       "\n",
       "                             \n",
       "translation   det. automata  \n",
       "LTL3BA                   60  \n",
       "basic                    60  \n",
       "$\\F$-merging            179  \n",
       "$\\FG$-merging           173  "
      ]
     },
     "execution_count": 29,
     "metadata": {},
     "output_type": "execute_result"
    }
   ],
   "source": [
    "row_map={\"basic\"            : 'basic',\n",
    "         \"F-merging\"        : '$\\F$-merging',\n",
    "         \"G-merging\"        : '$\\G$-merging',\n",
    "         \"FG-merging\"       : '$\\FG$-merging',\n",
    "         \"FG-merging+compl\" : \"$\\FG$-merging + complement\"}\n",
    "t1_merged.rename(row_map,inplace=True);\n",
    "t1 = t1_merged.rename_axis(['',\"translation\"],axis=1)\n",
    "t1.index.name = None\n",
    "t1"
   ]
  },
  {
   "cell_type": "code",
   "execution_count": 30,
   "metadata": {},
   "outputs": [],
   "source": [
    "rand = t1.copy()"
   ]
  },
  {
   "cell_type": "code",
   "execution_count": 31,
   "metadata": {},
   "outputs": [
    {
     "data": {
      "text/html": [
       "<div>\n",
       "<style scoped>\n",
       "    .dataframe tbody tr th:only-of-type {\n",
       "        vertical-align: middle;\n",
       "    }\n",
       "\n",
       "    .dataframe tbody tr th {\n",
       "        vertical-align: top;\n",
       "    }\n",
       "\n",
       "    .dataframe thead tr th {\n",
       "        text-align: left;\n",
       "    }\n",
       "</style>\n",
       "<table border=\"1\" class=\"dataframe\">\n",
       "  <thead>\n",
       "    <tr>\n",
       "      <th>translation</th>\n",
       "      <th colspan=\"5\" halign=\"left\">states</th>\n",
       "      <th colspan=\"5\" halign=\"left\">acc</th>\n",
       "    </tr>\n",
       "    <tr>\n",
       "      <th></th>\n",
       "      <th>lit</th>\n",
       "      <th>rand1</th>\n",
       "      <th>rand2</th>\n",
       "      <th>rand4</th>\n",
       "      <th>randfg</th>\n",
       "      <th>lit</th>\n",
       "      <th>rand1</th>\n",
       "      <th>rand2</th>\n",
       "      <th>rand4</th>\n",
       "      <th>randfg</th>\n",
       "    </tr>\n",
       "  </thead>\n",
       "  <tbody>\n",
       "    <tr>\n",
       "      <th>LTL3BA</th>\n",
       "      <td>140</td>\n",
       "      <td>6253</td>\n",
       "      <td>6309</td>\n",
       "      <td>6412</td>\n",
       "      <td>5051</td>\n",
       "      <td>24</td>\n",
       "      <td>1000</td>\n",
       "      <td>1000</td>\n",
       "      <td>1000</td>\n",
       "      <td>1000</td>\n",
       "    </tr>\n",
       "    <tr>\n",
       "      <th>basic</th>\n",
       "      <td>140</td>\n",
       "      <td>6234</td>\n",
       "      <td>6283</td>\n",
       "      <td>6393</td>\n",
       "      <td>5051</td>\n",
       "      <td>48</td>\n",
       "      <td>2148</td>\n",
       "      <td>2340</td>\n",
       "      <td>2473</td>\n",
       "      <td>1907</td>\n",
       "    </tr>\n",
       "    <tr>\n",
       "      <th>$\\F$-merging</th>\n",
       "      <td>110</td>\n",
       "      <td>5428</td>\n",
       "      <td>5302</td>\n",
       "      <td>5255</td>\n",
       "      <td>3926</td>\n",
       "      <td>70</td>\n",
       "      <td>2311</td>\n",
       "      <td>2589</td>\n",
       "      <td>2820</td>\n",
       "      <td>2249</td>\n",
       "    </tr>\n",
       "    <tr>\n",
       "      <th>$\\FG$-merging</th>\n",
       "      <td>65</td>\n",
       "      <td>4604</td>\n",
       "      <td>4307</td>\n",
       "      <td>4041</td>\n",
       "      <td>2744</td>\n",
       "      <td>98</td>\n",
       "      <td>2971</td>\n",
       "      <td>3318</td>\n",
       "      <td>3677</td>\n",
       "      <td>2978</td>\n",
       "    </tr>\n",
       "  </tbody>\n",
       "</table>\n",
       "</div>"
      ],
      "text/plain": [
       "translation   states                          acc                         \n",
       "                 lit rand1 rand2 rand4 randfg lit rand1 rand2 rand4 randfg\n",
       "LTL3BA           140  6253  6309  6412   5051  24  1000  1000  1000   1000\n",
       "basic            140  6234  6283  6393   5051  48  2148  2340  2473   1907\n",
       "$\\F$-merging     110  5428  5302  5255   3926  70  2311  2589  2820   2249\n",
       "$\\FG$-merging     65  4604  4307  4041   2744  98  2971  3318  3677   2978"
      ]
     },
     "execution_count": 31,
     "metadata": {},
     "output_type": "execute_result"
    }
   ],
   "source": [
    "rand.columns = rand.columns.swaplevel()\n",
    "rand.sort_index(axis=1,level=1,inplace=True,sort_remaining=False,ascending=True)\n",
    "idx = pd.IndexSlice\n",
    "corder = ['states','acc']\n",
    "parts = [rand.loc[:,idx[[c]]] for c in corder]\n",
    "rand = pd.concat(parts,names=corder,axis=1)\n",
    "rand"
   ]
  },
  {
   "cell_type": "code",
   "execution_count": 32,
   "metadata": {},
   "outputs": [],
   "source": [
    "print(rand.to_latex(escape=False,bold_rows=False),file=open('fossacs_t1.tex','w'))"
   ]
  },
  {
   "cell_type": "code",
   "execution_count": 33,
   "metadata": {},
   "outputs": [],
   "source": [
    "cp fossacs_t1.tex /home/xblahoud/research/ltl3tela_papers/"
   ]
  },
  {
   "cell_type": "markdown",
   "metadata": {},
   "source": [
    "## Scatter plots"
   ]
  },
  {
   "cell_type": "code",
   "execution_count": 34,
   "metadata": {},
   "outputs": [],
   "source": [
    "def fix_tools(tool):\n",
    "    return tool.replace('FG-','$\\\\FG$-').replace('F-','$\\\\F$-')"
   ]
  },
  {
   "cell_type": "code",
   "execution_count": 35,
   "metadata": {},
   "outputs": [],
   "source": [
    "def sc_plot(r,t1,t2,filename=None,include_equal = True,col='states',log=None,size=(5.5,5),kw=None,clip=None, add_count=True):\n",
    "    merged = isinstance(r,list)\n",
    "    if merged:\n",
    "        vals = pd.concat([run.values[col] for run in r])\n",
    "        vals.index = vals.index.droplevel(0)\n",
    "        vals = vals.groupby(vals.index).first()\n",
    "    else:\n",
    "        vals = r.values[col]\n",
    "    to_plot = vals.loc(axis=1)[[t1,t2]] if include_equal else\\\n",
    "        vals[vals[t1] != vals[t2]].loc(axis=1)[[t1,t2]]\n",
    "    to_plot['count'] = 1\n",
    "    to_plot.dropna(inplace=True)\n",
    "    to_plot = to_plot.groupby([t1,t2]).count().reset_index()\n",
    "    if filename is not None:\n",
    "        print(scatter_plot(to_plot, log=log, size=size,kw=kw,clip=clip, add_count=add_count),file=open(filename,'w'))\n",
    "    else:\n",
    "        return scatter_plot(to_plot, log=log, size=size,kw=kw,clip=clip, add_count=add_count)"
   ]
  },
  {
   "cell_type": "code",
   "execution_count": 43,
   "metadata": {},
   "outputs": [],
   "source": [
    "def scatter_plot(df, short_toolnames=True, log=None, size=(5.5,5),kw=None,clip=None,add_count = True):\n",
    "    t1, t2, _ = df.columns.values\n",
    "    if short_toolnames:\n",
    "        t1 = fix_tools(t1.split('/')[0])\n",
    "        t2 = fix_tools(t2.split('/')[0])\n",
    "    vals = ['({},{}) [{}]\\n'.format(v1,v2,c) for v1,v2,c in df.values]\n",
    "    plots = '''\\\\addplot[\n",
    "    scatter, scatter src=explicit, \n",
    "    only marks, fill opacity=0.5,\n",
    "    draw opacity=0] coordinates\n",
    "    {{{}}};'''.format(' '.join(vals))\n",
    "    start_line = 0 if log is None else 1\n",
    "    line = '\\\\addplot[darkgreen,domain={}:{}]{{x}};'.format(start_line, min(df.max(axis=0)[:2])+1)\n",
    "    axis = 'axis'\n",
    "    mins = 'xmin=0,ymin=0,'\n",
    "    clip_str = ''\n",
    "    if clip is not None:\n",
    "        clip_str = '\\\\draw[red,thick] ({},{}) rectangle ({},{});'.format(*clip)\n",
    "    if log:\n",
    "        if log == 'both':\n",
    "            axis = 'loglogaxis'\n",
    "            mins = 'xmin=1,ymin=1,'\n",
    "        else:\n",
    "            axis = 'semilog{}axis'.format(log)\n",
    "            mins = mins + '{}min=1,'.format(log)\n",
    "    args = ''\n",
    "    if kw is not None:\n",
    "        if 'title' in kw and add_count:\n",
    "            kw['title'] = '{{{} ({})}}'.format(kw['title'],df['count'].sum())\n",
    "        args = ['{}={},\\n'.format(k,v) for k,v in kw.items()]\n",
    "        args = ''.join(args)\n",
    "    res = '''%\\\\begin{{tikzpicture}}\n",
    "\\\\pgfplotsset{{every axis legend/.append style={{\n",
    "cells={{anchor=west}},\n",
    "draw=none,\n",
    "}}}}\n",
    "\\\\pgfplotsset{{colorbar/width=.3cm}}\n",
    "\\\\pgfplotsset{{title style={{align=center,\n",
    "                        font=\\\\small}}}}\n",
    "\\\\pgfplotsset{{compat=1.14}}\n",
    "\\\\begin{{{0}}}[\n",
    "{1}\n",
    "colorbar,\n",
    "colormap={{example}}{{\n",
    "  color(0)=(blue)\n",
    "  color(500)=(green)\n",
    "  color(1000)=(red)\n",
    "}},\n",
    "%thick,\n",
    "axis x line* = bottom,\n",
    "axis y line* = left,\n",
    "width={2}cm, height={3}cm, \n",
    "xlabel={{{4}}},\n",
    "ylabel={{{5}}},\n",
    "cycle list={{%\n",
    "{{darkgreen, solid}},\n",
    "{{blue, densely dashed}},\n",
    "{{red, dashdotdotted}},\n",
    "{{brown, densely dotted}},\n",
    "{{black, loosely dashdotted}}\n",
    "}},\n",
    "{6}%\n",
    "]\n",
    "{7}%\n",
    "{8}%\n",
    "{9}%\n",
    "\\\\end{{{0}}}\n",
    "%\\\\end{{tikzpicture}}\n",
    "'''.format(axis,mins,\n",
    "                    size[0],size[1],t1,t2,\n",
    "                    args,plots,line,\n",
    "                    clip_str)\n",
    "    return res"
   ]
  },
  {
   "cell_type": "code",
   "execution_count": 44,
   "metadata": {},
   "outputs": [],
   "source": [
    "ltl3ba = 'LTL3BA'\n",
    "fgm = 'FG-merging'\n",
    "fm = 'F-merging'\n",
    "basic = 'basic'\n",
    "\n",
    "size = (4,4)\n",
    "clip_names = ('xmin','ymin','xmax','ymax')\n",
    "kw = {}\n",
    "sc_plot(runners['lit'],basic,fgm,'sc_lit.tex',size=size,kw=kw.copy())\n",
    "\n",
    "size = (4.3,4.5)\n",
    "kw['title'] = 'literature'\n",
    "sc_plot(runners['lit'],basic,fgm,'sc_lit.tex',size=size,kw=kw.copy())\n",
    "for suff in ['1','2','4','fg']:\n",
    "    kw['title'] = 'rand'+suff\n",
    "    sc_plot(runners['rand'+suff],basic,fgm,'sc_rand{}.tex'.format(suff),size=size,kw=kw.copy())"
   ]
  },
  {
   "cell_type": "code",
   "execution_count": 45,
   "metadata": {},
   "outputs": [],
   "source": [
    "cp sc_lit.tex sc_rand*.tex ~/research/ltl3tela_papers"
   ]
  },
  {
   "cell_type": "code",
   "execution_count": 46,
   "metadata": {},
   "outputs": [],
   "source": [
    "r = runners['rand4']"
   ]
  },
  {
   "cell_type": "code",
   "execution_count": 40,
   "metadata": {},
   "outputs": [
    {
     "data": {
      "text/html": [
       "<div>\n",
       "<style scoped>\n",
       "    .dataframe tbody tr th:only-of-type {\n",
       "        vertical-align: middle;\n",
       "    }\n",
       "\n",
       "    .dataframe tbody tr th {\n",
       "        vertical-align: top;\n",
       "    }\n",
       "\n",
       "    .dataframe thead tr th {\n",
       "        text-align: left;\n",
       "    }\n",
       "\n",
       "    .dataframe thead tr:last-of-type th {\n",
       "        text-align: right;\n",
       "    }\n",
       "</style>\n",
       "<table border=\"1\" class=\"dataframe\">\n",
       "  <thead>\n",
       "    <tr>\n",
       "      <th></th>\n",
       "      <th>column</th>\n",
       "      <th colspan=\"2\" halign=\"left\">states</th>\n",
       "    </tr>\n",
       "    <tr>\n",
       "      <th></th>\n",
       "      <th>tool</th>\n",
       "      <th>F-merging</th>\n",
       "      <th>basic</th>\n",
       "    </tr>\n",
       "    <tr>\n",
       "      <th>form_id</th>\n",
       "      <th>formula</th>\n",
       "      <th></th>\n",
       "      <th></th>\n",
       "    </tr>\n",
       "  </thead>\n",
       "  <tbody>\n",
       "    <tr>\n",
       "      <th>421</th>\n",
       "      <th>((Gb | Fa) &amp; (GFa U c)) | (F!b &amp; G!a &amp; (FG!a R !c))</th>\n",
       "      <td>10</td>\n",
       "      <td>8</td>\n",
       "    </tr>\n",
       "  </tbody>\n",
       "</table>\n",
       "</div>"
      ],
      "text/plain": [
       "column                                                        states      \n",
       "tool                                                       F-merging basic\n",
       "form_id formula                                                           \n",
       "421     ((Gb | Fa) & (GFa U c)) | (F!b & G!a & (FG!a R ...        10     8"
      ]
     },
     "execution_count": 40,
     "metadata": {},
     "output_type": "execute_result"
    }
   ],
   "source": [
    "r.smaller_than('basic','F-merging')"
   ]
  }
 ],
 "metadata": {
  "kernelspec": {
   "display_name": "Python 3",
   "language": "python",
   "name": "python3"
  },
  "language_info": {
   "codemirror_mode": {
    "name": "ipython",
    "version": 3
   },
   "file_extension": ".py",
   "mimetype": "text/x-python",
   "name": "python",
   "nbconvert_exporter": "python",
   "pygments_lexer": "ipython3",
   "version": "3.6.7"
  }
 },
 "nbformat": 4,
 "nbformat_minor": 2
}
